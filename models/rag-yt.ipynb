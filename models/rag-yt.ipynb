{
 "cells": [
  {
   "cell_type": "code",
   "execution_count": 1,
   "metadata": {},
   "outputs": [],
   "source": [
    "from youtube_transcript_api import YouTubeTranscriptApi\n",
    "import re"
   ]
  },
  {
   "cell_type": "code",
   "execution_count": 2,
   "metadata": {},
   "outputs": [],
   "source": [
    "def get_video_id(video_url):\n",
    "    match = re.search(r\"(?<=v=)[\\w-]+\", video_url)\n",
    "    return match.group(0) if match else None"
   ]
  },
  {
   "cell_type": "code",
   "execution_count": 3,
   "metadata": {},
   "outputs": [],
   "source": [
    "def get_video_transcript(video_url):\n",
    "    video_id = get_video_id(video_url)\n",
    "    try:\n",
    "        transcript = YouTubeTranscriptApi.get_transcript(video_id)\n",
    "        text = \"\"\n",
    "        for line in transcript:\n",
    "            text += line['text'] + \" \"\n",
    "        return text.strip()\n",
    "    except Exception as e:\n",
    "        print(f\"Error getting transcript: {e}\")\n",
    "        return None"
   ]
  },
  {
   "cell_type": "code",
   "execution_count": 4,
   "metadata": {},
   "outputs": [
    {
     "data": {
      "text/plain": [
       "\"give us a cricket opinion that you can't say out loud I guess I think Ro should still be the Mumbai Indian Captain I think if you're the Indian T20 Captain you have to be captain in your franchise do you remember a drunk conversation that you had with your England mates about the Indian team we were drunk all the time so we were probably speaking about Sachin what do you make of sachin's statue he deserves it yeah but do you think it looks like him or Steve Smith the bat's skewed in his hands he only ever played the most perfect Drive what's it like being in Mumbai covering the IPL but I look at the I think for a franchise to win you've got to have your Indian players playing well you look at rajastan you ask if SW J fell at the top of the order use you I mean he doesn't really get much of a mention I never understood why RCB got rid of him KY and Rohit Sharma both they've created this identity of the Indian cricket team verac Coy he has given so much love and joy to test match cricket and and when he was the test match Captain I just felt that indera in a real safe place and obviously mson in the white war game you know hardik's being hated upon a lot and by a lot of Indian fans hard is going through a difficult time and it's not his fault no he's been asked to come back to the Mumbai Indians he's been asked to be the captain who's going to say no to that he's Brash he's beautiful he's the former English cricket team captain for the first time on a podcast these Cricket podcasts are the ones I look forward to the most because I get to talk to them as a fan and not an expert I get to learn from them and I get them to express the things they may not Express within the Realms of traditional news media it's Michael vaugh with our IPL special on the RV [Music] show Michael vaugh I finally get to speak with you I'm so excited to talk to you I'm I'm exced to be here thanks for having me what's it like being in Mumbai covering the IPL every year oh I love the IPL I mean it's uh it's the the biggest most flamboyant franchise league in the world it's uh obvious got millions of eyeballs on it uh billions of dollars involved uh commercial Brands desperate to get involved highend business people desperate to be involved every single player in the world desperate to get that contract with one of the franchises um but I have to S I just love been in Mumbai i i i i adored Mumbai for years but I just find a bit of Peace here you know I just like coming here I I call it my reset come and do some Cricket talk about the game watch the games um have a couple of weeks off alcohol which is a good thing um I just enjoy the people I just uh I like all the smiles I love the fact that they're obsessed with Cricket you know they play cricket everywhere gly Cricket I'm always stopping in a taxi just to see kids playing the the game and um I just find the people so endearing um and that's away from cricket they're obviously all Cricket fanatics but I just find the smiles on the faces so endearing and uh there's a lesson there for many around the world that uh you know a lot of these kids particularly in Mumbai they don't have a great deal they have uh very little compared to a lot of the kids back in the UK but they all seem so happy you know they're not fighting over an iPhone um they're not fighting over the next uh drop of a super Supreme hoodie or the next drop of a an Air Jordan uh they just seem so happy to be out there playing um mainly playing Cricket which is great for me I love I love watching them all play cricket but I just like to see them all so happy and it's uh something that I think um many kids around the world can take a leaf out of you know that during the IPL it's probably the happiest phase for every single Indian guy for sure who watches Cricket the IPL is like an escapism uh it's become an escapism over the years uh have you ever wondered about how life would have been if the IPL was around when you were playing cricket and captaining England because that's how all of us remember you with that red and blue jersey that particular team uh Andrew flintov uh harison uh I think James Anderson had just started out around that time you were right after nasar Hussein that's right so uh I'm sure you know this but there's a lot of love for you now that you've retired I'm sure there wasn't too much love for you back then uh Indians take the India England rivalry a little seriously well I think as a as an an England player there's there's two teams that you want to compete against and do well against and first and foremost not disrespecting India it's Australia you know the ashers is is uh principally what we're about in English Cricket to try and win those ashes back uh so first of almost you want to do well against Australia and then obviously it's India you know playing well against that Indian side was always a a big goal of mine um I have to say I used to find the battles with the Indian side led by sarf ganguli um always enjoyable always hard fought always uh played in the right fashion uh I remember Sarah getting his shirt off at Lords and celebrating because Andrew Flint off had come to I think it was in Mumbai where Freddy got a wicket and yeah he got his shirt off and uh I think SAR was uh kind of replying to that a few years later at Lords in a one day game um yeah so it's always Fierce I'm I had a huge amount of admiration for the way that SAR ganguli captained and when I got the captaincy of England in 2003 I tried to take a a little bit of everything that I'd seen from captains and also um captains that I'd played under back at Yorkshire uh obviously with Nash hsein it with England Alex Stewart Captain a couple of times as well and also I used to watch the overseas captains how they operated and sarf Gully was was one of those captains I looked I thought oh yeah that passion that he brings you have to have passion as a captain and then I looked at Steve War he was you have to have a bit of toughness about you Steven Fleming in New Zealand I watch the way that he tactically maneuvered his um troops and the way that he managed people I wanted to take a little bit of that um I I I actually look back at my crew and think how did I end up as Captain I don't see myself as a leader you seemed like the most stable guy in that english team and I'm not demeaning the other guys they were all dynamites so that's at least from a cricket fans perspective I thought to myself you know why did they pick Michael vaugh as Captain you brought a lot of stability that's what you you felt like the big brother in the room yeah yeah maybe um yeah I would say they were incredible players though I mean to to have those kind of players you know Steve hson Ball 0 miles hour Simon Jones very similar Matthew hogard well he was a character he was mad but then Freddy flints off Kevin Peterson Darren g was finishing when I started but you know real characters of the game and you know I always believe in any sport uh in particular Cricket that we we seem to have a lot of characters that you you've got to allow them to be characters you know that's I I believe the job as the leader of of the team and the the management group is you know you don't want to take that character away from someone you know if they are a flamboyant personality if they are a little bit outspoken let them be that you know it might might trigger them into playing better if you try and take away the their key um principle character you know you might just just take away something that brings them out as better people better cricketers so I just wanted them to be themselves and uh I guess a few of them are a little bit different and a bit wild and wacky at times but um you know as I said before I I I I look back now you know I'm getting 50 this year and I look back think I don't see myself as a leader you know people say oh you were this great leader of the England creat I honestly just felt that I was just going about my business as normal and trying to get people to play cricket um in a way that I enjoyed watching them you know I generally believe that we want to enjoy watching players play so when you're the captain and you sat on the balcony watching you know I wanted to enjoy Freddy flintov trying and whack it out the ground that's what he was good at are you in touch with him now not yeah yeah you're listening to me and he's obviously it's great to see him back in the game he's uh he's going to be the coach of one of the teams in the 100 ball competition which is great he's gone through a a real trauma with the accident that he had on Top Gear and he's trying to fight through that so it's great to see him back involved in cricket he's Lads play these two boys are coming through are really good players are they also all rounders all-rounders so get ready yeah India get ready in a few years time there were a couple of Flint offs coming at you flintov was one of the local favorites you like we hated him at that point and then over time you began to respect love adore Freddy flintov and then he was also the most expensive player in one of the player auctions yeah that was with Kevin Peterson they both I think they both went for exactly the same number Freddy Flint I think you you remembering from 2005 but you know I honestly think from my time playing when he was bowling at his best and that was around two four five and six I think he would he really was a great bowler his numbers don't do him um you know don't do the the the kind of bowler that he was and the cricket that he was you look at his averages that they certainly don't do him Justice you know he was a wonderful bowler Cricket fans miss that kind of an allrounder you know the Ferocious bow I mean we have it in ben Stokes but flintoff was Flint off yeah I mean I I guess you look around the world now Cameron green is is just setting out on that all rounder Journey he he's got the potential to be a an incredible all around I look at Hardy paner you know he's had injuries but again he's uh he's in the news for the wrong reasons at the minute about his captaincy and should he be the captain I just see him as a player and I I look at hard think I'd want him in my team you give me a hard paner every single day of the week I have to ask you about hardik panda and Rohit Sharma but I got to finish this Loop of Freddy flintov was uh he's spoken about with a lot of love within the Indian fan base uh what was he like in the dressing room and maybe the wider question here is what makes uh it possible for a country to produce all-rounders because England has constantly produce all-rounders you don't see that in other countries Australia a little bit India it's like we've only got hardik Panda uh since coule so what's the difference in like English culture why did y all produce Freddy flintom and Ben Stokes and and Sam G uh and Freddy vind kids yeah yeah I mean you're talking seam bow and all rounders I mean I think you've got the best allrounder in the world here at the minute in ravage deia I think he's an incredible Cricket b ball spin um I don't know I mean I guess our conditions you know when you're growing up in in English conditions you don't ball much spin the pitches are wet bit of green the ball swinging around why would you ball spin so I guess people when they're younger kind of just aligned to bow with a bit of pace obviously in the modern a you've got to try and whack it out the ground that's an allrounder unless you're a brown unless you're a brown guy growing up in England then you want to be a spinner for the England team yeah if you can be yeah if you can be but I would say our conditions aren't conducive to trying to produce world class Spinners we've had a couple in in the past but that's the biggest thing in English Cricket is trying trying to produce a spin if you could give us a ravaged Asia we we'll pay a lot of money for him if he's for sale um but you know I think all rounders what they bring and if you look at you know a lot of cricket teams in the in the history of the game generally they've been a good team when they've had an allrounder he just makes your job as a captain so much easier for the balance of the side you know getting five Bowlers you've got your five Bowers because you're all round is going to bat at six bowl your 15 20 overs a day um you know the the Gally the allrounder is that charismatic person that kind of galvanizes the whole team we've had it in ben Stokes Freddy flintoff Ian Botham three very similar characters I mean I don't know about Ian Botham I don't know about Ben Stokes I've not been in the dressing room with them I mean you'd probably be surprised Freddy f is quite quiet oh really yeah he's very in yeah so he wouldn't be louded in the dressing room be sat in the C reads a lot of books now again you wouldn't you wouldn't think that Freddy was the type to he's very intellectual um he'd do a cross word and and read books in the dressing he wasn't one for speaking too much he wasn't the noisiest in the room uh he certainly was as nois as someone like Matthew hogard who was always making noises but um yeah very in a way quite insecure at times you know and I think when he went out onto the cricket field that that was his space you that's when he felt that he could just be him and he could play this aggressive game and um as I said when he was at his best he was a tremendous cricketer I'm assuming that if insecurity is an inherent part of a human being and if they're willing to work hard then they eventually achieve greatness that's probably why he became an allrounder in the first place yeah I think people forget and I think sometimes I forget as a pundit that you know you're talking about human beings you know they have emotions they have thoughts and um you know I think most most people have a bit of anxiety about performing you know when you're going over to you know if you're on a stage I'm sure actors have that anxiety or am I going to perform well tonight and it's exactly the same in sport that you know Cricket is a and particularly now where they're playing you know pretty much 12 months of the year and the pressure is on you know with social media um every game that they play now is is streamed whether it's live on television or streamed on YouTube you know that's back to county cricket Ry trophy everything is seen now and if you make a mistake or if you do something really well everyone's going to see it you know so there's nothing really in the middle you're either being seen for doing something remarkably well getting a 100 getting a five for taking a catch or you're seen for doing something remarkably bad dropping a catch getting out consistently bowling a bad over uh so everyone sees everything these days which you know I have a huge amount of admiration for All Sports people because um they're in an era where we as the fan can tell that Sports person what we think we can go on social media and we can tell that person exactly what we think of their performance I never had that you know we might have had the odd phone in radio show where the fan could ring oh Michael Bo useless he keeps dropping catches and I I agree totally agree whereas now the fan can have that communication through to the player and and I guess it's easy and I would say to all modern sports people you know don't look at social media when you know you've done something uh wrong or bad or not quite performs to the level that you're don't look at it I know it's easy for me to say but just try and switch it off you know come back on when you've scored a 100 or got a fer I don't understand why you trigger your mind into such negativity by looking at the comments section of social media if you're going to go on social media just go on mentions you know just have a not sorry just put your your ex out out there or you comment and then don't look at what people think you know exactly what you're thinking at that time why would you want to trigger a huge amount of people who clearly you know the sports fan is quite a passionate fan they're not interested in a in a normal day they're they're interested in when you've done really well or when you've done really badly and they want to let you know they'll L say you've done brilliant or they don't say oh you know what I thought you're okay today that's not a tweet that's not an ex you know it's either going to be really critical or really praising so when you know you've had a really bad time of it put why which is why we love Rian parag right now well what a Bo I mean uh you know so he was spoken about with high regard throughout the years but because he had a difficult last two years combined with him uh I think he was showcasing his confidence and I get that uh I was the same at that age he was just trying to uh manifest something for himself he got trolled very heavily by the meme World in and generally I think the Indian cricket fan base is even more passionate along with the Pakistani Cricket fan base so now that he's taking off he's actually he's enjoying himself I hope he's enjoying himself or he's just come out a really stoic person yeah well he's got a great opportunity with Rajan because they're a tremendous franchise they obviously won that first one back in the day we showing War the lake right good friend of ours um and you're looking at rajastan you look at them last year they started well and then they dropped off towards the back end but the IPL is intrigued to me because generally the IPL it gets all this exposure for the the big books that they play pay for all the overseas players you know it gets huge headlines and when it's auction time everyone stops and it's they're all waiting you know Mitchell start went for a huge amount Pat Cummings went for a huge about you mentioned Freddy flintov Kevin Peterson back in the day but I look at the IP I think for a franchise to win you've got to have your inding players playing well yeah they have to play well and you look at rajastan you if swed J fell at the top of the order yui Ashman incredible young player incredible young player he's got many many years of domination ahead of him you look sandw Samson he can play you go parag Ashwin chaha you're starting to think of the core of that rajastan team and the reason why they've won the early stage of the is it's not to do with Josh Butler it's not been to do with hetm uh Trent bolts had a couple of good spells but it's to do with the Indian core and that's why I think that rajastan are a real threat this year that Indian core can continue to play well uh they've got a great chance of doing something special yeah uh while the auctions are going on do players in England also get very excited oh yeah yeah they're keeping a track of the auction oh yeah I mean Sam Curran he went for a huge amount last year he's uh on big books this year uh does it make headlines there yeah yeah absolutely Harry Brooke went for a big big number last year and then he was put back in the auction didn't get quite the amount this year and pulled out absolutely it's h it's always big news and the talk leading into the the auction is who's going to go for what who's going to be the big ticket what are each franchise looking for um you want to be that allrounder you know that all I think if you asked me could I come back and play again I'd want a ball 95 miles an hour and but left-handed and try and launch it out the ground like Nicholas puran I think that kind of player so bow if a Kabal like bumra and bat like Nicholas puran left-handed uh that' be worth a huge amount of money that's the Prototype that we create on cricket video games that's the same prototype that that's what you want to come out if you could build I guess in AI days which you are in if you're going to build a cricketer um with all this techn that you can I think AI are be trying to work on a a buom style Pur and cricketer who creates run outs like Jed AER correct yeah and and throw either hand and maybe keep a bit like Don as well if it gets bored practically speaking though what happens while you're growing up in order to become a cricketer and that's the question that I have about all-rounders as well maybe it's kind of related to hardik Panda I've always wondered about why India's only seen one hardik Pand and one couple Dave and almost no one in between is it because you have a limited amount of fuel as a human being to invest in these skills like why can't everyone become the Prototype that you just spoke about I I I think in I I think most cricketers particularly in the UK now they all want to Tred everything and that's exactly how you you should treat your early days as a player um I've never understood a batter not being able to Bow and if you go back to India when they won the World Cup in 2011 most of that top six could all Bowl yeah Uvis sewag they could just bowl a few overs if you look at India's top six now none of the Batters really bow I think it really affects India in white ball Cricket because as a caption you want as many options as possible and even it's just two overs here three overs there it just uh it makes your equation down the back end of an Innings that much easier India at the minute in white board Cricket they have five bowling options so if you you know as an opposition I'm playing against here hit one of them smack one of them to all parts then they really are struggling because that one ball has been smack but he still has to ball 10 overs or he still has to Ball Four overs in T20 crcket you can't just throw in a sewag or a UV just to see how or Sachin Sachin bold seam leg spin offin you know I think that all cricketers that are coming up playing the game if you're an out standing young batter the coaches should say right you can bat and you're going to be a great batter but by the way you're gonna have to ball got to ball because it's going to help your team it's going to help the captain and it's going to help your team win more trophies in the future if you can get all your young batters um just bowling something you know something of a variable just anything that they possibly can I just think it makes you into a better team from the perspective of a batsman it's probably slightly confusing to face someone who doesn't Bowl often is that the overarching point here oh I look at someone like Glenn Maxwell Glenn Maxwell incredible batter his Osman is very clever because he can think like the batter that's and because he um plays all the tricks and the and all the remarkable shots he's as good as anybody in this area in white ball Cricket I think when he runs up to balll he can see what the batter's thinking and he can bowl the ball which is the hardest ball for the batter to hit because he knows what the batter's thinking you know so I've always thought in white buer Joe Root's a very good bowler because he knows what the batter is thinking um it's not just that you know Bowlers who are just out andout Bowlers clearly they're they're the standout but think there's a a huge role in the game for the Batters who Bowl I just think they think exactly what the Batters uh think and it can just just Bowl something that's harder to hit you know what I want to do right now I want to create a time machine go back to Rohit sharma's childhood tell him to focus on bowling and make him take Travis head's a wicket in that World Cup final that's what my heart I think you were going to mention the World Cup final see you've got your shirt on as always irrespective of everything November the 19th where were you uh I was right here actually I I didn't want to go to the stadium because I don't know I I kind of almost felt too nervous to go there was a part of me that was nerves in retrospect it was probably the right decision but uh it was painful I was watching it with my grandfather and we were building this core memory of watching a great cricket match together and now it's not a core memory anymore we've just erased it unfortunately the Australians did what the Australians do they win they know they know how to get over the line it's a it's an amazing mentality that they have they just know how to get the job done ah um I feel like kohi and Rohit Sharma both they've created this identity of the Indian cricket team like even in the leadup to the final the kind of ferocity that our team was playing with was crazy and I feel this is the outcome of their careers and their mentalities but my real question to you is is this Indian bias speaking like what is is it like from your perspective as a non-indian seeing this team and the other question is what was ganguli team like from your eyes what's the commonalities and differences Sarah um team is very it was collectively hard I felt that he got them all playing together as a team really well and uh obviously when you've got the lights of dravid and and Sachin seag at the top of the order uh gon Gambier is coming through real quality player sarv himself was a wonderful player so he had quality Z magnificent left armor and then you had harban and anal kumble you've got quality in your team so um yeah they were hard to beat you know I think he made Indian cricket really tough I I look at you know a few individuals within um the Indian ranks that have made them into this this Powerhouse now and and I will say this and I've said it publicly recently India should win a lot more trophies we agree I I can't get the through 2013 I think was the last trow in ic champ that's not a trophy really that is a trophy Michael it's like the World Cups and the the test champ in two chest Championship Finals lost them both and I'm just looking at the the amount of talent in this country and I looked at row it in the in the world cup and I had so much admiration for because he got them playing properly yeah he got them playing absolutely fantastically you know the Modern Way the aggressive way he did everything right just had that one blip in the final that can happen but Ro's done a remarkable job but and he's an individual I mentioned about getting the team playing collectively in this aggressive way and he's LED from the front with that uh sarf ganguli back in the day he he made India hard made them tough verac kohi he has given so much love and joy to test match cricket and and when he was the test match Captain I I just felt that inder in a in a real safe place and the world game was in a in a safe place when verat was Captain because he's so passionate about test match cricket I mean those wins in Australia all right the second one he he went home having I think it was a 36 all out and then he disappears and India win the series but that's his team with Ravi shastro they they created an incredible incredible mindset for test match cricket and obviously Ms dony in the whiteb game no one no one's been better than Ms behind the stumps captain in a team so they're the four individuals that that I'll mention that have really transcended Indian cricket verat Fitness you know his attitude to an ethic to Fitness um driving forward day in day out just having that mindset of getting out there and playing um it's it must be kind of the rest of the younger players around the whole of India looking go I want to be ver I want to kind of follow his lead and you know Fielding has become a a thing whereas I guess back in my day India would never re has been a good Fielding sway you look at them now they're they're electric you J is probably the best in the world then it was just ying and Mohammad KF yeah and it was out the the norm wasn't it oh God you've got a couple of fields that can run that's remarkable whereas now I think through verat I think the whole of Indian cricket realizes you've got to be fit you've got to be fast um but I I I just look at them and think they should be winning a trophy every two or three yeah every two or three trophies that are available India should be winning in your eyes as a former National Captain what's going wrong and specifically what went wrong in November because this was our best chance yeah was and I no they dominated the whole world cup you know I don't think they can play any better and then on a final against Australia uh you sometimes have to give an opposing team a huge amount of credit and Pat Cummings um I say team but also an individual I thought Pat Cummings was uh a genius that week the way that he spoke to the Press said he want to quietly I meted Crow down um on the toss decided to bowl again it was a tactical genius move put the squeeze on didn't allow kale raull and verat to settle kept on swapping Bowlers either end then he bows the ball to get rid of verat coy um he led that team as well as I've seen an individual lead Le lead a a team in a big big game uh in my time watching the game and he just does you know that Australian mentality you know they they they they're not scared you know when it gets to the big moment they're not scared and and that's going to be the challenge for India now is that you know they you know done okay they obviously got to the top of the tree in terms of the test uh Championship we not won the finals lost the final in November um it's getting over the line you know winning winning a trophy it's it's not easy it's it it doesn't sound and don't don't say this the wrong way but it's easy to get to the final when you quality but it's bloody hard to win it's really difficult to win a final particularly when you haven't been used to winning finals of like do you think we lost because of that fear element Psychology was a part of the loss uh I did feel that with the bat in hand um you know roit was flying you know rit's dismissal was was key to that final because another half an hour of roic sha maybe the other players had have followed and need taken that that score a little bit deeper um you know his dismissal was was was key to that that Indian batting and were they fearful I I actually felt they probably thought that the score that they got was going to be okay but then the pitch flattened out the the due came in and obviously Travis had played a Blinder but I wouldn't say they were they were scared I wouldn't say they were playing in a fashion that was kind of mentally weak I wouldn't say that I just thought that Australia had a had a little bit of a a stronger mentality on the day and India if you being Ultra critical could probably have been a bit riskier with the bat in hand yeah you watch football as well right you know what noodle hair Ronaldo is it's like when he had golden dye in his hair and that's his best season for Real Madrid so there's noodle hair Ronaldo and there's The Knockout version of hardic hardic in The Knockouts I think we needed that as well that we needed that one extra Guy and um you know hardik is being hated upon a lot and by a lot of Indian fans I personally understand that people are upset I get why people are upset but I think it's unfair uh simply based on how much he's performed for India in these tournaments over the years he's always that guy who stood up even in that Innings that verat kohy played at the MCG against Pakistan hardik Panda was at the other end for most of that Innings so people tend to forget these aspects of cricket but I personally really feel like we were missing a hardic that day yeah absolutely you had to key all around I mean hard's going through a difficult time and it's not his fault you know he's been asked to come back to the Mumbai Indians he's been asked to be the captain um who's going to say no to that he's just been given a job that pretty much every single cricketer in India would like to do c in the Mumbai Indians they've had a tricky couple of years um I just think the communication's not been quite right and I think if they had the time again they' probably communicate it a little bit better um I personally would have kept roic you know I think Hardy coming back to Mumbai is is big enough pressure in itself and roit once he had a good World Cup and he's obviously going to be the Indian T20 Captain the sensible Sensible move would have been for RO to carry on as a Mumbai Indians with with hardick in mind for next year or the year after he's always going to be around the Mumbai Indians now um but what I don't get is I I don't understand booing I kind of get it the first game at goodat I get that because he played for them for two years did so so well with them and and their fans are bound to give him it's a bit like the pan MIM isn't it he's bound to happen but when he went to hydrabad I thought what's going on and then he comes back to the wank stadium and his own supporters were boing him at the TS I I didn't understand that and what Indian cricket and the Indian cricket fans have to understand and the Mumbai Indians are Indian fans for India to win the T20 World Cup I think they need hardic P yeah they need him they need him playing well so they need to over the next few weeks somehow get that confidence level right up to the top once again because India with hard it flying you know I've got a great chance of lifting that trophy like I keep saying they should be winning trophies but I don't think they will unless they have a hardic paner playing well you know unless they have a rishab pant playing well so they're two cricketers that I'll mention for India to win the T20 World Cup I think rishab has to play and he has to be playing to a level that he was before his injury and he's kind of getting back to that level now but he's still got a a few kind of cogs to go up and they need Hardy P the allrounder and maybe yill yal I mean he doesn't really get much of a mention yeah and I don't understand why I I never understood why RCB got rid of him how the RCB sign I mean the RCB bowling for years has been shocking and yet the one bowler that is always delivered is you and they let him go I don't quite understand that um I'm going to say something that one is allowed to say in the world of podcasts uh RCB is a very well-branded team and the chatter in cricket circles is that they pick players who are great for Branding but not match winners and they've actually like why would you let go of yuzi chel who's become the all-time leading Wicket there's no sense behind that move uh it's probably not in vat's hands that's my reading of it from the outside and that's how a lot of C cricketers also look at it so RCB is going to continuously not win trophies because of uh how the management is going about their job uh according to a lot of cricket fans at least we don't see them winning trophies because and and you know you you see a lot of franchises in the IPL constantly doing badly so there's something that's going wrong on the management level it's not up to the playoffs yeah well the RCB have never won so what what what I like about the fact the RCP when it it proves to me that team sport is not just about IND individuals know so you can go and buy all the biggest individual names and put them into a put them into a team doesn't mean you're going to win and it's been proven at the RCB that you know they've they've signed some incredible players and they have you know AB dilas verat Glenn Maxwell faf unbelievable players but it just tells you unless you get the whole team operating and every single player knowing the roles and identifying different roles for different people and it might be that you have to rejig your team slightly just to allow someone else to flourish in a different position I don't see the RCB so doing that I I I look at them this year actually I think pretty much every opposition when ver goes out to open they open the ball in a left down spin I get that because ver you put two fielders on the onside boundary you might get away with a couple of singles uh before you know it you've had one over and three or four off it perfect start for the Fielding side I wonder if the RCB SE I thought well okay they're going to open with a left arm spinner we need to open with a left-hander and ver not one off the first but you've got a left hander facing the left arm SP he launches it into the stand a couple time then you get to 13 or 15 off the first over I don't see them trying anything you know different I just see them thinking that and he's probably wrong but from again it's perception they just seem to think because they they're great players in this team that the management think well we've got great players we're going to win it proves to me that even though you've got great players unless you get the team ethic the culture and you absolutely identify everyone's roles perfectly um you're not going to win trophies I mean traditionally there's been only two beautiful things about the franchise verat kohle and their jerseys and now there's only one beautiful thing because the jerseys are this year it's a horrible Jersey why would you why does every team go for a red and or blue jersey know like it the sunris is kit this year that that's awful as well that's that's an awful kit yeah awful kit goodat there my favorite goodat mumb you remember the dean Chargers kid back in the day the navy blue nice yeah nice right memorable Rajan that's a good kit the pink kit I like that yeah at least they're trying something new that's what I like about Rajasthan I mean I think in the Indian billionaires who buy these teams are not very uh Savvy when it comes to branding like honestly I hate the name lakau super Giants and I hate The Branding why would you just have a cricket bat with like those there's so much more you can do with lnno it it's just weird branding they quite a good team though they're great team I think they've almost become almost become my second team because they're exciting to watch well I tell you why they're exciting this year because they've got a young 21 year old B 157 km an hour in yeah in May yav he's uh injured last year he's come obviously into the the team this year wow that's all I can say wow he's got a a very very bright future we had omran Malik come out some time ago just the fact that he could Bowl Beyond 150 or touch 150 was a huge deal now we have mang yov so I don't know what's happening within Indian cricket but it's well then you add to that you've got Muhammad shami who's obviously injured at the minute but he'll come back Muhammad SJ um Jasper bumra yeah and I think Jasper if you're asking most people around the world if you could pick one fast bowler for all conditions all formats bummer is number one on the team yeah he's just uh he's incredible he's a goat fast bowler yeah he is in India right there's not been probably zah Khan javagal shat kapal they're in that next rung and that's saying something yeah there there's some worldclass Bowlers you know you know New Zealand Trent Bol uh Tim th's been great for many years Jimmy Anderson Stewart broad uh incredible Bowlers Pat cumings Hazelwood start incredible but bum's just he's just a a little bit he's just got that that action that release because of his release he gets a little bit closer to the battle which is obviously um giving him that extra bit of pace accuracy reverse swing conventional swing variation bounces you name it bum's got absolutely everything from your playing days you would fac Wasim akam vakar yunas Glen MRA all these guys Steve heson also I remember his prime it was something crazy James Anderson where would you rate bura amongst this lot I just look at his action and and I would say that he would be the one that I wouldn't want to face out of all those names that you really yeah just his action it's just uh and all the players that face him the like just hits you it's like a bowling machine th it just comes out at you and I think from ball one as well he doesn't really give you too many looseners that that first ball is always on the money it's always a similar Pace to his last ball um yeah I mean wzy mam was a genius absolute genius um Glen McGrath if there if there was any movement he'd find it uh if there was a length to hit he'd find it you know he he knew exactly how to restrict you he studied your Technique he knew how to make you keep very very uncomfortable but Predator I just yeah when that Australian team were was just a group of they were hounds weren't you they came after you um yeah bumra I'd have bumra pretty much at the top of that list when you were playing who was the baller that you were afraid to face but there was an element of fear well never feared um I feared getting out you know I wasn't worried about getting hurt um you know morethan in Sri Lanka when you know you've got sangara behind the storms man Hala that slip you'd have many around the back giving you load of stick and morally spinning either way no clue which way it was spinning you just hope that you guessed um yeah he made it very very difficult warny obviously and you know in any conditions but particularly when the ball was spinning um yeah and Glen mcgr when sha Pollock and Glen mcgr when the ball was moving and there was not so much swing because I think swing you can see swing early as a b and you can play Swing see movement you've got no clue you've noidea idea which way it's going to be you've got an idea that they're trying to seam it away or they're trying to seam it back but you know this you know they talk about the wobble wobble seaming this year you know when the ball wobbles down and oh this is a a new thing for this last six or seven years well if you look look at Shawn Pollock sha Pollock always wobbled the ball down it went in it went out Glenn mcgar very similar um yes so seam movement was always and all Bs will say the same SE is so much harder to face than swing what about spin for you like which which one was more difficult for you um no I didn't mind facing uh spin you know I I I enjoyed the challenge I think I think in in cricket fa facing or watching someone Bowl 150 km an hour it's a great spectacle but there's something magic about a spinner you know a Shan War balling a spell or a harbage a kumble um you know you look at Graham swamp for England when he was getting it going and and the ball spinning you just know that as a batter you're just a one little small mistake and you're gone you're gone you're out of there and they get one Wicket and guess what the new battle coming in it's a night man one m and you see Spinners get you know you particularly in India you know you look at the last series that England England have just lost 4-1 as soon as Ashwin got win one Wicket you felt oh there's another one coming and another Co deep Yad who I have to say looks like the most improved bowler in the world he's just developed that pace and that drift and that that consistency that he possibly didn't have a couple of years ago so whoever's worked on his action and he's probably strengthened his body to be able to Evol a bit quicker for longer um I think CI C's going to have one of those spells one of those spells that he might start to dominate both home and away for for India um for The Amateur Indian cricket fan if our team's traveling to England we look at it as a test for a lot of our youngsters and our test cricket players who've performed well here and over the years on an average we almost always anticipate that we're going to lose a lot of wickets very quickly in a few of those matches at least now I personally believe that any human being is an outcome of his or her own stories and experiences so you white boys in England what what happens to you guys when yall are facing seam bowling constantly in those conditions are you able to play seam bowling fast Bowling better than the subcontinent players like what happens to subcontinent players when they're playing in English conditions like can you break it down a little bit more yeah I mean it's say we we're brought up with the ball swinging you know from the age of four or five when you play the ball swings through the air so you're kind of used to that ball swing I don't know if that's the case here in India you're probably used to the ball going straight uh maybe a bit of reverse swing and obviously spin so you're your game is geared towards that um so naturally we we're our techniques our mindset is is fine when the ball's moving around I guess it's the the opposite when England come here to India and the ball starts spinning around we're in a little bit Panic stations and I think over the time there's been some um wonderful players that's been that England have produced um Kevin Peterson I think uh Tris Gothic Graeme G they're the kind of standout players of of how to play spin in terms of a defensive mechanism and also being able to Counterattack and and put the Spinners under pressure and that's the key and it's the same when you're facing Seaman swing in the UK If you go there with the mindset of just defending and trying to see the bowlers these dukee balls that you using they generally swing all the time m they're always moving so you have to learn a mindset and a technique to try and make sure that you you're rotating the strike or at least trying to put the ball the back under pressure if you allow Jimmy Anderson just to bowl in England he'll get you out so you have to have a have a have a have a tool somehow of forcing Jimmy onto the back foot by it might be taking a risk and again here in India I think there's times where you have to take risks against the Spinners to try and put them on the back foot and that is the the key of any Innings when you play here is that when you take the risk what risk do you take and if it comes off you're generally okay but it's that that moment where you go right I've got to try and put ashin under pressure or harbage or can't just can't just sit in my bunker expecting to score because they don't bowl many bad balls so you have to try and force these great Bowlers into doing something different um and that that I guess that's the Gul between being a good player and a great player you know the great players have the tools to be able to put all the quality Boulders under pressure with with with a movement or or a shot and I think if you're just a good player you don't quite have the tools in the box so you have to work on your mindset being strong um you have to have such a strong mentality for the pressure situation U I admire all the players players that have all the tools in the Box I kind of look and go it's quite easy for you because you can kind of devise a way around any pressure situation I had a huge amount of admiration for those that don't have all the tools in the box like for example uh I would look at someone in England someone like Paul cin you know back in the day I thought he maximized you know Gram Thorp played a lot with gram Thorp he he was incredible at just maximizing what he had um you know there's there's been many players over many generation Steve War I think you could probably put at the top of that list that any any Indian players that you can think of oh I've always looked at the Indian players and thought Oh You Got Talent got a lot of talent they can all play um I do think when they come to the UK they have this um it's not fear but I I I think they over play the moving ball I think they get it into their minds that the ball moves a lot more than it actually does you know I look at India now in terms of the bowling attack boom rashami sirj they've got Bowlers that are going to get 20 wickets in the UK I guess back in the day they probably didn't but they certainly have the bowlers now to get 20 wickets um so the Batters don't have to look to get 500 for 300 325 is usually a big score in in in English conditions and I go back to the last tour um India were winning that series there were two one open and then obviously Manchester happened they disappeared back to the IPL uh came out the following year for that oneoff test England went so it's a two- all series so you you could argue that if they' have played in Manchester with the momentum of the Indian side they possibly would have won that series which they probably deserve to do uh but they didn't finish off the series next year when they come you know they're up against basor this new style of play which has just you know failed here in India uh but it's a hard Style play against in England because England know the the dimensions of the ground they know the pitches so if India aren't going to do their homework in the next year and a half and think that they're just going to arrive in England and play to a similar standard to what they have done uh I think they'll get blown away I really do that you have to do a lot of research playing against this England sign if you do that and are prepared to play in a certain fashion look at Pat Cummings last year they just hung in there I don't know if the right kind of mechanism of success uh with the way that Pat went about he went really defensive and spread the field I'm not too sure you go about it all the time in that fashion but there's certainly a lot of research required to play against basetball in the UK I love speaking to English people in general I think you guys have a crazy sense of humor okay and I think Indians know this about English people when they interact with English people okay uh now here's a psychological input that I actually understood after speaking with Yad Singh so he said that whenever he was playing you guys he was a little more fired up so I asked him why so honestly there's there is this little rivalry that uh we feel with England only because of History that's not a reflection of how we feel about you guys now right now you guys are Bros like but there is like historical rivalry have you watched the movie Lagan no have you heard of the movie Lagan no it's one of the most iconic Hindi films right okay go go watch it when you're free that is the perception of England from a competitive Sports perspective that a lot of Indians have uh so I think Indian players get very switched on when they're playing England yeah uh and Australia see the number one rival is Pakistan but in that second run it's probably England and Australia like you really want to win you have a play Pakistan H that's true unfortunately I wish that that' be if you said to me what what what would you love to see in the world game I'd love to see test series regular between India and Pakistan and if it can't happen in India it can't happen in Pakistan have it in Lords have it in the okay seriously we'll host you we'll sell out every ground but then we'll be playing to the strengths of the pakistanis no India have got all those quick Bowlers IND you do not this is my I think Indian um Cricket fans and and maybe some of maybe the players still think that they haven't got the tool they've got all the tools they've got the best seam well in attack you could argue with Australia in the world got world class Spinners got world class batters it's everything you requir to win in England in Australia they've won in Australia the last two times hardly any teams go to Australia and compete never mind wins India if you can win in Australia can certainly win in the UK but it takes a a huge amount of preparation and planning to do that Michael vaugh say something that you can't say on traditional news media give give us a cricket opinion that you can't say out loud I I I can say whatever I want on on any platform um I guess I think roow should still be the Mumbai Indian Captain I think if you're the Indian T20 Captain you have to be captain in your franchise I just don't understand that and that was where I said communication it could have been easily sorted out I think Row's a an incredible leader another one just keep going for it keep going um po you have to clickbait Sir aren't you uh what what do you want me to say I mean I I who's an overrated cricketer in the modern day according to you overrated I don't know I I I I would say that England have got to be careful that they don't become aside that people love to see lose you know I think they've got to be careful some of the their their interviews of late about basball and you know some of the comments regarding the way that they play and it's you know it's the only way to play the game I think they've got to be careful that the rest of the world aren't looking and going oh we hope you lose so I think as a sporting team you want to be uh respected wherever you go and you want people to actually really enjoy I love watching England play I have to say that I love watching them play I just want I just want them to be a bit smarter just every now and again I just want them to use their their brains and just play aggressively when you can but also understand that you can dip down in the gears when it's not possible to be aggressive all the time in your eyes as an English Cricket fan what went right to produce that golden generation that won the ODI World Cup you know the Ben stalkes World Cup preparation you know four years 2015 you know right back from you know that that final we reached in the early 90s against Pakistan from there right through to 2016 we were shocking in white ball Cricket absolutely garbage and then obviously we we have a disaster in 2015 and then ow Morgan Trevor Bay get together in 16 and they knew exactly what they were going to try and achieve in 2019 the World Cup was in England so that helps uh everything just fell into place but they they deserve that element of Fortune in the final because for for three years the way that they played uh buying into this aggressive brand uh bringing through all the right people in the right roles um not great players as well but you know going so aggressive at the top Jason Roy Johnny Berto Joe rot with the glue um Josh Butler just a freak and you had the allrounder in Ben Stokes you had Spinners in Adel Rasheed mowing Ali then you had real quality seam bowling you know Liam plunet did a role uh Chris wokes obviously and then the final piece of the jigsaw Joff Archer arrived it was all a line for England to win but again that's why I mention in you to win in England in a year and a half time you got to prepare you got to get everything right can't just arrive in England in a year and a half oh we're playing in England what we're going to do and that's the admiration I had for OE Morgan and Trevor Bas because they they worked on that over the course of three years my disappointment actually is since then you know they've won a T20 World Cup in um in Australia but our 50 overside from winning it 2009 and it just kind of just Fallen yeah the the their defending of the the title here in India was a poor defense you know selection was wrong they just didn't play the right style uh just didn't play the the standard of what we'd come accustomed to and I think you know great great sporting teams and I you know look at the West Indies back in the 80s uh the Invincible side back in whenever that was Pakistan had a real quality side in the '90s but you know the Australian side of of the Domin team of our era you know the '90s early 2000s they won World Cups they won test Series in India they won obviously the ashes pretty much every opportunity and that's a great sporting team and I just felt England with with everything that they had they had a great chance with the team and the the skill levels that they they have of doing something incredible of coming here to Indian and winning a World Cup winning England winning India then you're a great team you know I think they miss that opportunity and and that's that's why I'll keep going back to India they are the team that I look at now I think Australia quality team they and they always are but they they have this mentality it's just mentality with Australian that's all it is they are desperate to win and they know how to win I look the talent here in India and I I I think every single team in the world he said oh which Talent pull do you want and you can take any you can buy any everyone would say India all the talent is in this country let's speak about James Anderson you captained him it's strange for me as a 30-year-old Cricket fan to say that he's one of my earliest Cricket memories and he's still playing so was there something special in him back then did you know that this guy's going to keep playing oh no not absolutely not when he first started he had that I think he had blue hair turned it to Red he might have been white at a time and he bought this big booming out swingers you know he didn't even look at the batter when he was boring look at his his action he kind of dropped his head and he B these big big out to the rander um then he got an injury and then he was out of the side he wasn't a part of the 05 team and then 2006 he didn't play and then we went to New Zealand and we got him and broaden to the side they just I never ever felt that either of them were going to go to the the levels that they've achieved it's remarkable the longevity that they they have given the game and um you know waking up as a batter every morning is hard but waking up as a bowler you imagine the bodies what I have a look at is Jimmy he he can't like being at home because he always wants to play cricket and he said something actually um which I saw last week which I think it's exactly the message that all kids have got to understand he said to to be a cricketer you've got to love Fielding so when he first started playing the game I think it was at Burnley Burnley Cricket Club he was just the Fielder diving at Square leg he loves fielding and again I I I I I I didn't like Fielding you couldn't catch so I was always worried in the field in case I dropped a ball and you know it's going to affect the team and the outcome of the match and it's easy for those that are naturally gifted at fielding you know it's easy for them because they take catches and they're not worried about that but someone's actually is concerned about Fielding because you might drop the ball that loses your team the match you a lot of anxiety creeps and you you I used to worry more about Fielding than batting or or balll in a couple of overs because I thought oh God I just can't catch and if I drop that ball that's the game over I'm going to absolute idiot so that message by Jimmy was a perfect message for me for all kids that are starting out be good at fielding because if you're really good at fielding and you enjoy Fielding but it's it's the one skill that you do more than any any any of the others so you might as well get good at fielding and it'll give you that longevity I mean you're seeing players now that uh are playing longer than ever they're fitter they actually eat the right thing I don't think they drink consistently anyone what was being Drank in the old days but I wouldn't change that loved it um you know this this opportunity now for a I guess a playing career my day if you you you got 12 years out your playing career you've done well I genuinely think these days there's a 20-year career there for the players if they look after themselves uh do the right thing but you've got to be good at fielding do you remember a drunk conversation that you had with your England mates about the Indian team back then and perhaps suchin duler what did you say when youall were drunk oh oh jeez we we we we were drunk all the time so we were probably speaking about Sachin more often than not how'd you get him out no idea okay um oh we we we I you got to remember I I came through the 80s and kind of the early 90s of what cricket was back then you know which was you know my my father when I made my first class debut at um Yorkshire versus Lancashire you know I had six pints of loger the night before the game started but that was the norm I bed on dayana face Wasim I got 60 odd that night I had 10 points so I celebrated the fact with all my teammates you know it was called my career best which it was at that time so I had to buy all my teammates a pint and then they all bought me one which one or two disappeared but we ended up having 10 pints that that was the norm it wasn't that you were just cell that was like every night of county cricket in the 90s there was always a restaurant to go to a pub uh there'd be a quiz night somewhere um yeah I mean particularly on a Saturday night when we used to play a 40 over game on the Sunday and every Saturday night it was called the Saturday night club and we would dress up in uh toger outfits uh fancy dress would have a team room full of piss and then go out at night and then no wonder that my white ball game was shocking because most of my my younger generation playing county cricket was played on a Sunday hung over from the Saturday night but those were the times that we played in it's Sur Real test of a great English cricketer I guess it's not easy facing the likes of Wazi mam on a Sunday when you've only had three hours Kip and he's at Coke the previous day soorry he's spoken about this alleged alleged alleged no I think he's spoken about it on one of the podcast all the respect of Asim so uh because I want him on the show I I have so many questions for the Pakistani Legends oh yeah that are a great that a great Cricket in nation yeah well they fascinate me actually because you can't ever predict what's going to happen it's chaos yeah but I also when there's chaos beware you know beware because they've won trophies in the past where they've arrived at the world they've looked at shambles then suddenly they got on this kind of run and they're a steam train I look at them now but mean babara was Captain last year he gets the captain taken off him didn't think he'd done a bad job in white ball Cricket it comes off him it goes to shy shaa Frei uh he then gets it taken off him I don't think he got told but he had quotes on the website he then says they're not my quotes bab back is Captain um absolute chaos apparently getting a new coach maybe one for the red ball one for the white ball um beware them in the T20 World Cup Anything Could Happen honestly the cricket fans who are not into geopolitics Miss Pakistani cricketers in the IPL and I think these are two separate domains yeah I agree like imagine what the IPL would be with the Pakistani Cricket I honestly I mean I said it earlier the sooner the the world game can get Pakistan playing India on a regular basis in test match Cricket uh and as I said wherever that may be if it can't be here and it can't be in Pakistan please we'll have it or Abu Dhabi Dubai I just think that is you know when when India play Pakistan I mean I'm a big football fan as you are you know man united play Liverpool it's massive it's monstrous but there's nothing like India playing Pakistan India Pakistan at Cricket is I think the biggest watch sporting occasion in the planet when it happens the whole world stops everyone seems to want to it goes into the billions of of eyeballs watching that game um and it'd be great for test Cricket is the one format that we need to try and protect make sure we're looking after and I think what could look after it more than anything you you know test championships you know going down to four days day night Cricket whatever it may be I think one of the biggest tools that could help save test match cricket is that India play Pakistan on a regular basis is odier Cricket dead I think it's the one format that could be put under pressure yeah I mean I I enjoyed the World Cup and I think while ever the the World Cups are being played like we saw last year in India with again huge amount of eyeballs TV likes it a huge amount of Revenue through commerciality what I think should happen is yet a World Cup happens every four years I think the bilateral series are dead you know I think the the actual World Cup should happen every four years and leading into that World Cup probably six months before that's when you get back into the 50 over bilaterals as kind of warmups for the World Cup um I guess people say but how dod you qualify I I would have a qualification amongst the Lesser Nations if you like or the the teams not in the top 10 um all the top 10 teams should be playing every World Cup um you know but one format has to give you can't have all these franchise leagues test match CRI is still um flourishing like we wanted to and 50 over by like there's just not enough months in the year so something and also bilateral T20 series I don't I don't think they should happen either I think you know the franchise leagues they they're almost like the old bilateral series that's where you're going to pick your players from they're under a huge amount of pressure the Pakistan Super League obviously the IPL the 100 the big bash there's plenty of cricket there for the selectors to try and find your T20 International Players um as I said something's got to give and I just think by leral one day T20 cricket got to give um you know I mean a dream scenario would be if Cricket goes football style and we have matches on the weekend throughout the year and there's some kind of an escapism to turn to throughout the year rather than just these three epic months well that that for that's the IPL so I I think to save test Cricket I think that test Cricket should have its own window yeah and it should be you know I don't think you could you could grab six months of the window there's just too much happening I think there's going to be a Champions League that's going to arrive but if we said for for three months every year it was just test match cricket time so the whole world just plays test Cricket which month depends on where we're going to be playing so I know people say oh yeah but where are you going to put well that's for the administrators to to decide but if we could get the three months of the year where test Cricket is played solely and everyone's just watching test Cricket talking about test match cricket I just think it's going to be good so there be no franchise leagues you can't just suddenly nip off and play in Bangladesh or Sri Lanka or nip over to AUST now it's test match Creet time and that I think would make a lot of players want to play test match cre for longer you know do you want three months off some might say yeah they want three months off they might decide upon those three months to be off but I would say the majority of the great players in the world would be absolutely committed to those stream Ones playing test match cricket I think it'd be a really good thing for the game Michael vaugh this was the podcast for today uh I could speak to you for hours I love speaking to British Brothers but thanks for being in our studio oh thanks for having me lovely room by the way oh I'm glad I'm glad you do I get a little noing that's verat is it is it ver it's verat kohi Rohit Sharma mson and KL Rahul is that roic captain in all just being a [Laughter] player he's uh that's the that's that's the that's the captain version of roit maybe he needs to come back hopefully within the M Indians itself because today there's headlines all over the news where people are like um he's going to probably leave M Indians they're going to release him for the Mega auction which I hate by the way he's gonna chai reckon replace dony I was just talking about Gad obviously doing it this year do you think that's kind of just a holding position for maybe R next year I think that the franchises that have never had stability are going to go for him Sr Punjab Kings um I'd argue Kolkata they've not had that charisma type captain since they look fantastic I think they're going to make the top four but for the next face Maybe r sharma's one of those really pillows I see him in chenai that'll be heartbreaking honestly I see him that for a m fan that's that's terrible I wouldn't mind him going to Hyderabad he played for Deen Chargers that would be kind of romantic I wouldn't mind him going anywhere for his own joy and happiness because we care about him other than Jenai all the so if he if he went to Captain chenai and he came back to the W KY would he get booed no no never Ro will never get booed you see so he can play for Janai yeah no Ro Ro's never going to get boo he's in that Legend status but it would just hurt a lot of the can I ask you about um what do you make of sain's statue I he deserves it yeah what do you think it looks like him or Steve Smith oh this is the there you go Steve Smith cute yeah it kind of looks like yeah it looks a little bit more like Steve Smith it looks like Steve Smith and sain tend had a love child but also the shot have you got the full frame of the shot that he's playing uh zoom out zoom out sat and player drive like that look the bat skewed in his hands he only ever played the most perfect Drive Michael Bourne it's all about the Vibes it's all about the Vibes satch needs a new Statue that's what I want to finish on this podcast I'm I'm I want that one taken down and I want the great man the master to have a new Statue I want his back to be straighter and I want his top elbow a little bit higher and I don't want him leaning back he never L back when he drove the ball he just went you know with a a full transfer of Weights um yeah so can we just make sure that that gets CLE I want him to have a new Statue only if you whoever whoever made that statue I don't know who it was but I'm sure someone will tell me but um I don't want them to make the next statue have you seen the Ronaldo one yeah in in Portugal yeah that's fun statue yeah that wasn't quite right I think it was the same person that made that one no I think the Ronaldo one's worse the Ronaldo one is like a homeless version of Ronaldo from another timeline uh but Michael one I think we're out of time for today uh you have to head back to the cricb studio yes so uh we always love listening to Michael on reading your tweets uh you're a nice Brash young bloke so it was a lot of fun with you uh it was always you you had a very positive presence that's how I remember you from my childhood watching you it was always very pleasant listening to you and as a pundit I've really loved how direct you are because I think a lot of punditry especially on traditional television lacks that directness which is why I love what you guys do at Crick bus and I don't think to many fans tune into traditional TV anymore at least Urban fans for sure yeah they like digital don't it's the modern modern world yeah so I hope to speak you again perhaps the next time we'll speak about Manchester United well I'm here for the World Cup for the T20 World Cup so let's see uh how your team get on you don't rate India I rate them I rate them hugely I I'll keep saying it they've got the best Squad in the world do we have a chance at winning got a chance got a chance I think Australia will win do you see rishab pun in the starting 11 yes okay without I'll put it this way India are stupid if they don't have rishab pun left-hander and Rinku Singh o Yas rishab Rinku in that top seven somewhere with jasia as well I think leftand is are very important in T20 cricket who's going to miss out I think K will miss out I think it'll be shman or verat probably verat verat is just white ball specialist brilliant Tracer like the way he's played for the RCB I think he's played a bit more expansively um and then sky sky bats at number four rishab five hardic Rinku judia pretty good would you have yuzi in the starting 11 oh cool deep yuzi you know chal's a one you need mystery spin you need Spinners that can spin it either way so cep yav is obviously uh beautifully uh there's something about Ashwin as well Ashwin is probably not going to get a mention but I like the professor we love him do I like the professor I I wouldn't rule him out being in the squad whether he plays all the time I have to wait and see but I wouldn't rule him out being in the squad because I think he's going to take rajastan quite a long way in this year's IPL I think Rajasthan are winning this year yeah it'll be very they usually bottle it at the end though don't they aesh Khan he stepped up the seal they've got a good te they've got good Indian players in good form but you want them in good form going into the eliminations Fair it's a bit early Fair uh lots more to unpack with you I appreciate your time a lot no problem my inner child is very happy today if I'm getting to spend time with Michael vaugh huge day thank you lots of fun thank you Michael thank you so much that was the Epic episode with Michael vaugh I'm always looking forward to these Cricket episodes whenever I see them on my schedule these are the ones that give me true Joy it speaks to my own inner child going to be continuing this entire series lots more Cricket Legends coming up on TRS keep supporting us [Music]\""
      ]
     },
     "execution_count": 4,
     "metadata": {},
     "output_type": "execute_result"
    }
   ],
   "source": [
    "data = get_video_transcript(\"https://www.youtube.com/watch?v=JqQf6-gdEXE\")\n",
    "data"
   ]
  },
  {
   "cell_type": "code",
   "execution_count": 5,
   "metadata": {},
   "outputs": [],
   "source": [
    "import ollama\n",
    "from langchain.text_splitter import RecursiveCharacterTextSplitter\n",
    "from langchain_community.vectorstores import Chroma\n",
    "from langchain_core.output_parsers import StrOutputParser\n",
    "from langchain_core.runnables import RunnablePassthrough\n",
    "from langchain_community.embeddings.sentence_transformer import SentenceTransformerEmbeddings\n",
    "import pandas as pd\n",
    "import chromadb\n",
    "from chromadb import EmbeddingFunction\n",
    "import tqdm\n",
    "import time\n",
    "from IPython.display import Markdown\n",
    "import fitz"
   ]
  },
  {
   "cell_type": "code",
   "execution_count": 6,
   "metadata": {},
   "outputs": [],
   "source": [
    "text_splitter = RecursiveCharacterTextSplitter(\n",
    "    chunk_size = 1000,    \n",
    "    chunk_overlap = 20,\n",
    "    length_function = len,\n",
    "    add_start_index = True\n",
    ")"
   ]
  },
  {
   "cell_type": "code",
   "execution_count": 7,
   "metadata": {},
   "outputs": [
    {
     "name": "stdout",
     "output_type": "stream",
     "text": [
      "give us a cricket opinion that you can't say out loud I guess I think Ro should still be the Mumbai Indian Captain I think if you're the Indian T20 Captain you have to be captain in your franchise do you remember a drunk conversation that you had with your England mates about the Indian team we were drunk all the time so we were probably speaking about Sachin what do you make of sachin's statue he deserves it yeah but do you think it looks like him or Steve Smith the bat's skewed in his hands he only ever played the most perfect Drive what's it like being in Mumbai covering the IPL but I look at the I think for a franchise to win you've got to have your Indian players playing well you look at rajastan you ask if SW J fell at the top of the order use you I mean he doesn't really get much of a mention I never understood why RCB got rid of him KY and Rohit Sharma both they've created this identity of the Indian cricket team verac Coy he has given so much love and joy to test match cricket\n"
     ]
    }
   ],
   "source": [
    "texts = text_splitter.create_documents([data])\n",
    "print(texts[0].page_content)"
   ]
  },
  {
   "cell_type": "code",
   "execution_count": 8,
   "metadata": {},
   "outputs": [
    {
     "name": "stdout",
     "output_type": "stream",
     "text": [
      "[\"give us a cricket opinion that you can't say out loud I guess I think Ro should still be the Mumbai Indian Captain I think if you're the Indian T20 Captain you have to be captain in your franchise do you remember a drunk conversation that you had with your England mates about the Indian team we were drunk all the time so we were probably speaking about Sachin what do you make of sachin's statue he deserves it yeah but do you think it looks like him or Steve Smith the bat's skewed in his hands he only ever played the most perfect Drive what's it like being in Mumbai covering the IPL but I look at the I think for a franchise to win you've got to have your Indian players playing well you look at rajastan you ask if SW J fell at the top of the order use you I mean he doesn't really get much of a mention I never understood why RCB got rid of him KY and Rohit Sharma both they've created this identity of the Indian cricket team verac Coy he has given so much love and joy to test match cricket\", \"test match cricket and and when he was the test match Captain I just felt that indera in a real safe place and obviously mson in the white war game you know hardik's being hated upon a lot and by a lot of Indian fans hard is going through a difficult time and it's not his fault no he's been asked to come back to the Mumbai Indians he's been asked to be the captain who's going to say no to that he's Brash he's beautiful he's the former English cricket team captain for the first time on a podcast these Cricket podcasts are the ones I look forward to the most because I get to talk to them as a fan and not an expert I get to learn from them and I get them to express the things they may not Express within the Realms of traditional news media it's Michael vaugh with our IPL special on the RV [Music] show Michael vaugh I finally get to speak with you I'm so excited to talk to you I'm I'm exced to be here thanks for having me what's it like being in Mumbai covering the IPL every year oh I\"]\n"
     ]
    }
   ],
   "source": [
    "docs = []\n",
    "\n",
    "for chunk in texts:\n",
    "    docs.append(chunk.page_content)\n",
    "\n",
    "print(docs[:2])"
   ]
  },
  {
   "cell_type": "code",
   "execution_count": 9,
   "metadata": {},
   "outputs": [
    {
     "name": "stderr",
     "output_type": "stream",
     "text": [
      "d:\\Mini Projects\\TubeChat\\models\\parth\\Lib\\site-packages\\tqdm\\auto.py:21: TqdmWarning: IProgress not found. Please update jupyter and ipywidgets. See https://ipywidgets.readthedocs.io/en/stable/user_install.html\n",
      "  from .autonotebook import tqdm as notebook_tqdm\n"
     ]
    }
   ],
   "source": [
    "from chromadb.utils import embedding_functions\n",
    "sentence_transformer_ef = embedding_functions.SentenceTransformerEmbeddingFunction(model_name=\"all-MiniLM-L6-v2\")"
   ]
  },
  {
   "cell_type": "code",
   "execution_count": 10,
   "metadata": {},
   "outputs": [],
   "source": [
    "from chromadb import Documents, EmbeddingFunction, Embeddings\n",
    "from tqdm import tqdm\n",
    "class MyEmbeddingFunction(EmbeddingFunction):\n",
    "    def __call__(self, input: Documents) -> Embeddings:\n",
    "        embeddings = sentence_transformer_ef([docs])\n",
    "        return embeddings"
   ]
  },
  {
   "cell_type": "code",
   "execution_count": 11,
   "metadata": {},
   "outputs": [],
   "source": [
    "def create_chroma_db(docs,name):\n",
    "    chroma_client = chromadb.PersistentClient(path=\"D:/Mini Projects/TubeChat/models/data-yt\")\n",
    "    if name in chroma_client.list_collections():\n",
    "        chroma_client.drop_collection(name)\n",
    "    db = chroma_client.get_or_create_collection(\n",
    "        name=name, embedding_function=sentence_transformer_ef)\n",
    "    initial_size = db.count()\n",
    "    for i, d in tqdm(enumerate(docs), total=len(docs), desc=\"Creating Chroma DB\"):\n",
    "        db.add(\n",
    "            documents=d,\n",
    "            ids=str(i + initial_size)\n",
    "        )\n",
    "        time.sleep(0.5)\n",
    "    return db\n",
    "\n",
    "\n",
    "def get_chroma_db(name):\n",
    "    chroma_client = chromadb.PersistentClient(path=\"D:/Mini Projects/TubeChat/models/data-yt\")\n",
    "    return chroma_client.get_collection(name=name, function=EmbeddingFunction())"
   ]
  },
  {
   "cell_type": "code",
   "execution_count": 12,
   "metadata": {},
   "outputs": [
    {
     "name": "stderr",
     "output_type": "stream",
     "text": [
      "Creating Chroma DB: 100%|██████████| 75/75 [00:46<00:00,  1.62it/s]\n"
     ]
    },
    {
     "data": {
      "text/plain": [
       "75"
      ]
     },
     "execution_count": 12,
     "metadata": {},
     "output_type": "execute_result"
    }
   ],
   "source": [
    "db = create_chroma_db(docs, \"db_rag\")\n",
    "db.count()"
   ]
  },
  {
   "cell_type": "code",
   "execution_count": 13,
   "metadata": {},
   "outputs": [
    {
     "data": {
      "text/html": [
       "<div>\n",
       "<style scoped>\n",
       "    .dataframe tbody tr th:only-of-type {\n",
       "        vertical-align: middle;\n",
       "    }\n",
       "\n",
       "    .dataframe tbody tr th {\n",
       "        vertical-align: top;\n",
       "    }\n",
       "\n",
       "    .dataframe thead th {\n",
       "        text-align: right;\n",
       "    }\n",
       "</style>\n",
       "<table border=\"1\" class=\"dataframe\">\n",
       "  <thead>\n",
       "    <tr style=\"text-align: right;\">\n",
       "      <th></th>\n",
       "      <th>ids</th>\n",
       "      <th>embeddings</th>\n",
       "      <th>metadatas</th>\n",
       "      <th>documents</th>\n",
       "      <th>uris</th>\n",
       "      <th>data</th>\n",
       "    </tr>\n",
       "  </thead>\n",
       "  <tbody>\n",
       "    <tr>\n",
       "      <th>0</th>\n",
       "      <td>0</td>\n",
       "      <td>[-0.020583227276802063, 0.04846305027604103, 0...</td>\n",
       "      <td>None</td>\n",
       "      <td>give us a cricket opinion that you can't say o...</td>\n",
       "      <td>None</td>\n",
       "      <td>None</td>\n",
       "    </tr>\n",
       "    <tr>\n",
       "      <th>1</th>\n",
       "      <td>1</td>\n",
       "      <td>[-0.04560936987400055, 0.0416586734354496, 0.0...</td>\n",
       "      <td>None</td>\n",
       "      <td>test match cricket and and when he was the tes...</td>\n",
       "      <td>None</td>\n",
       "      <td>None</td>\n",
       "    </tr>\n",
       "    <tr>\n",
       "      <th>2</th>\n",
       "      <td>10</td>\n",
       "      <td>[-0.03345503285527229, -0.06322483718395233, -...</td>\n",
       "      <td>None</td>\n",
       "      <td>Stokes but flintoff was Flint off yeah I mean ...</td>\n",
       "      <td>None</td>\n",
       "      <td>None</td>\n",
       "    </tr>\n",
       "    <tr>\n",
       "      <th>3</th>\n",
       "      <td>11</td>\n",
       "      <td>[0.012117676436901093, -0.07399595528841019, -...</td>\n",
       "      <td>None</td>\n",
       "      <td>uh since coule so what's the difference in lik...</td>\n",
       "      <td>None</td>\n",
       "      <td>None</td>\n",
       "    </tr>\n",
       "    <tr>\n",
       "      <th>4</th>\n",
       "      <td>12</td>\n",
       "      <td>[-0.01315551158040762, -0.057236846536397934, ...</td>\n",
       "      <td>None</td>\n",
       "      <td>Spinners we've had a couple in in the past but...</td>\n",
       "      <td>None</td>\n",
       "      <td>None</td>\n",
       "    </tr>\n",
       "  </tbody>\n",
       "</table>\n",
       "</div>"
      ],
      "text/plain": [
       "  ids                                         embeddings metadatas  \\\n",
       "0   0  [-0.020583227276802063, 0.04846305027604103, 0...      None   \n",
       "1   1  [-0.04560936987400055, 0.0416586734354496, 0.0...      None   \n",
       "2  10  [-0.03345503285527229, -0.06322483718395233, -...      None   \n",
       "3  11  [0.012117676436901093, -0.07399595528841019, -...      None   \n",
       "4  12  [-0.01315551158040762, -0.057236846536397934, ...      None   \n",
       "\n",
       "                                           documents  uris  data  \n",
       "0  give us a cricket opinion that you can't say o...  None  None  \n",
       "1  test match cricket and and when he was the tes...  None  None  \n",
       "2  Stokes but flintoff was Flint off yeah I mean ...  None  None  \n",
       "3  uh since coule so what's the difference in lik...  None  None  \n",
       "4  Spinners we've had a couple in in the past but...  None  None  "
      ]
     },
     "execution_count": 13,
     "metadata": {},
     "output_type": "execute_result"
    }
   ],
   "source": [
    "pd.DataFrame(db.peek(5))"
   ]
  },
  {
   "cell_type": "code",
   "execution_count": 14,
   "metadata": {},
   "outputs": [],
   "source": [
    "def get_relevant_passages(query, db, n_results=5):\n",
    "    passages = db.query(query_texts=[query], n_results=n_results)['documents'][0]\n",
    "    return passages"
   ]
  },
  {
   "cell_type": "code",
   "execution_count": 21,
   "metadata": {},
   "outputs": [
    {
     "data": {
      "text/markdown": [
       "um then he got an injury and then he was out of the side he wasn't a part of the 05 team and then 2006 he didn't play and then we went to New Zealand and we got him and broaden to the side they just I never ever felt that either of them were going to go to the the levels that they've achieved it's remarkable the longevity that they they have given the game and um you know waking up as a batter every morning is hard but waking up as a bowler you imagine the bodies what I have a look at is Jimmy he he can't like being at home because he always wants to play cricket and he said something actually um which I saw last week which I think it's exactly the message that all kids have got to understand he said to to be a cricketer you've got to love Fielding so when he first started playing the game I think it was at Burnley Burnley Cricket Club he was just the Fielder diving at Square leg he loves fielding and again I I I I I I didn't like Fielding you couldn't catch so I was always worried inthat he might start to dominate both home and away for for India um for The Amateur Indian cricket fan if our team's traveling to England we look at it as a test for a lot of our youngsters and our test cricket players who've performed well here and over the years on an average we almost always anticipate that we're going to lose a lot of wickets very quickly in a few of those matches at least now I personally believe that any human being is an outcome of his or her own stories and experiences so you white boys in England what what happens to you guys when yall are facing seam bowling constantly in those conditions are you able to play seam bowling fast Bowling better than the subcontinent players like what happens to subcontinent players when they're playing in English conditions like can you break it down a little bit more yeah I mean it's say we we're brought up with the ball swinging you know from the age of four or five when you play the ball swings through the air so you're kind"
      ],
      "text/plain": [
       "<IPython.core.display.Markdown object>"
      ]
     },
     "execution_count": 21,
     "metadata": {},
     "output_type": "execute_result"
    }
   ],
   "source": [
    "ques = \"What does the speaker speak about his cricketing career?\"\n",
    "passages = get_relevant_passages(ques, db, n_results=7)\n",
    "\n",
    "Markdown(passages[0]+passages[1])"
   ]
  },
  {
   "cell_type": "code",
   "execution_count": 22,
   "metadata": {},
   "outputs": [],
   "source": [
    "chats={}"
   ]
  },
  {
   "cell_type": "code",
   "execution_count": 23,
   "metadata": {},
   "outputs": [],
   "source": [
    "def ollama_llm(question, context, chats):\n",
    "    formatted_prompt = f'''\n",
    "    Question: {question}\\n\\n Chat History :{chats} Context: {context}\n",
    "    Answer the question in 1250-2500 words strictly based on the context given. If asked explain code. Keep a smooth flow for your answer. If the data is a conversation, explain the individuals before answering the question.If the question is asking for a code then also explain the algorithm.If the question contains equations, explain them. Incase of spelling errors in the context, make spelling corrections in the response.\n",
    "    If the information is not sufficient then give output as \"Info not good to answer\".\n",
    "    '''\n",
    "    response = ollama.chat(model='mistral', messages=[{'role': 'user', 'content': formatted_prompt}])\n",
    "    return response['message']['content']"
   ]
  },
  {
   "cell_type": "code",
   "execution_count": 18,
   "metadata": {},
   "outputs": [],
   "source": [
    "def list_to_string(passages):\n",
    "    content = \"\"\n",
    "    for passage in passages:\n",
    "        content += passage + \"\\n\"\n",
    "    return content"
   ]
  },
  {
   "cell_type": "code",
   "execution_count": 24,
   "metadata": {},
   "outputs": [],
   "source": [
    "answer = ollama_llm(ques,list_to_string(passages),chats)\n",
    "def chat_history(ques,answer,chats):\n",
    "    next_id = len(chats)+1\n",
    "    chats[next_id] = {\"question\": ques,answer:\"answer\"}\n",
    "if len(chats):\n",
    "    if (chats[len(chats)]['question']!= ques or chats[len(chats)]['question']!=ques):\n",
    "        chat_history(ques=ques,answer=answer,chats=chats)\n",
    "    else:\n",
    "        print(\"Same\")\n",
    "else:\n",
    "    chat_history(ques=ques,answer=answer,chats=chats)"
   ]
  },
  {
   "cell_type": "code",
   "execution_count": 25,
   "metadata": {},
   "outputs": [
    {
     "data": {
      "text/markdown": [
       " The speaker in this context is having a conversation with someone about their experiences and observations related to cricket careers, specifically focusing on English and Indian cricketers. He shares some of his personal anecdotes about specific players, their dedication to the game, and the challenges they faced during their careers.\n",
       "\n",
       "Firstly, the speaker mentions that he knew two players, Broad and Anderson, who were initially overlooked by the English cricket team due to injuries. However, they went on to achieve remarkable success in their careers with longevity and consistency. He also shares how both of them loved fielding from a young age and emphasizes its importance in cricket.\n",
       "\n",
       "Next, he talks about the challenges Indian players face when touring England and performing under constant seam bowling conditions, while also commenting on the reverse situation for English players touring subcontinent countries. He believes that upbringing and experience play significant roles in how cricketers adapt to these conditions.\n",
       "\n",
       "The speaker then discusses the evolution of cricket careers over the years, mentioning how players nowadays want to be versatile and capable of performing all aspects of the game – batting, bowling, and fielding. He also praises the importance of having all-rounders in a team for balance and morale.\n",
       "\n",
       "Throughout this conversation, the speaker provides valuable insights into the mindset and challenges faced by cricketers from different backgrounds and conditions, emphasizing the importance of dedication, versatility, and experience. Overall, his observations highlight the complexities and nuances of cricket careers and how various factors contribute to their success or otherwise.\n",
       "\n",
       "Answer for the question (if it was asked): In this context, no specific question has been asked, so there is no need to provide a detailed answer. However, based on the information provided in the conversation, one could explore topics such as:\n",
       "- The importance of versatility and adaptability in cricket careers\n",
       "- How upbringing and experience impact cricket performance\n",
       "- The role of all-rounders in cricket teams\n",
       "- Challenges faced by Indian and English cricketers when touring each other's countries."
      ],
      "text/plain": [
       "<IPython.core.display.Markdown object>"
      ]
     },
     "execution_count": 25,
     "metadata": {},
     "output_type": "execute_result"
    }
   ],
   "source": [
    "Markdown(answer)"
   ]
  }
 ],
 "metadata": {
  "kernelspec": {
   "display_name": "parth",
   "language": "python",
   "name": "python3"
  },
  "language_info": {
   "codemirror_mode": {
    "name": "ipython",
    "version": 3
   },
   "file_extension": ".py",
   "mimetype": "text/x-python",
   "name": "python",
   "nbconvert_exporter": "python",
   "pygments_lexer": "ipython3",
   "version": "3.11.7"
  }
 },
 "nbformat": 4,
 "nbformat_minor": 2
}
