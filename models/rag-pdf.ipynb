{
 "cells": [
  {
   "cell_type": "code",
   "execution_count": 2,
   "metadata": {},
   "outputs": [],
   "source": [
    "import ollama\n",
    "from langchain.text_splitter import RecursiveCharacterTextSplitter\n",
    "from langchain_community.vectorstores import Chroma\n",
    "from langchain_community.embeddings import OllamaEmbeddings\n",
    "from langchain_core.output_parsers import StrOutputParser\n",
    "from langchain_core.runnables import RunnablePassthrough\n",
    "from langchain_community.embeddings.sentence_transformer import SentenceTransformerEmbeddings\n",
    "import pandas as pd\n",
    "import chromadb\n",
    "from chromadb import EmbeddingFunction\n",
    "import tqdm\n",
    "import time\n",
    "from IPython.display import Markdown\n",
    "import fitz"
   ]
  },
  {
   "cell_type": "code",
   "execution_count": 3,
   "metadata": {},
   "outputs": [],
   "source": [
    "def extract_text_from_pdf(pdf_path):\n",
    "    try:\n",
    "        # Open the PDF file\n",
    "        with fitz.open(pdf_path) as pdf_document:\n",
    "            # Initialize an empty string to store the extracted text\n",
    "            text = \"\"\n",
    "            # Iterate through each page in the PDF\n",
    "            for page_number in range(len(pdf_document)):\n",
    "                # Get the current page\n",
    "                page = pdf_document.load_page(page_number)\n",
    "                # Extract text from the current page\n",
    "                page_text = page.get_text()\n",
    "                # Append the extracted text to the result\n",
    "                text += page_text\n",
    "            # Return the extracted text\n",
    "            return text\n",
    "    except Exception as e:\n",
    "        print(f\"Error extracting text from PDF: {e}\")\n",
    "        return None"
   ]
  },
  {
   "cell_type": "code",
   "execution_count": 4,
   "metadata": {},
   "outputs": [],
   "source": [
    "data = extract_text_from_pdf(\"D:/ML_Projects/Llama-RAG/T L SINGAL BOOK.pdf\")"
   ]
  },
  {
   "cell_type": "code",
   "execution_count": 5,
   "metadata": {},
   "outputs": [],
   "source": [
    "text_splitter = RecursiveCharacterTextSplitter(\n",
    "    chunk_size = 5000,    \n",
    "    chunk_overlap = 100,\n",
    "    length_function = len,\n",
    "    add_start_index = True\n",
    ")"
   ]
  },
  {
   "cell_type": "code",
   "execution_count": 6,
   "metadata": {},
   "outputs": [
    {
     "name": "stdout",
     "output_type": "stream",
     "text": [
      "Wireless Communications\n",
      "About the Author\n",
      "T L Singal is currently Professor in the Department of Electronics and \n",
      "Communication Engineering, Chitkara Institute of Engineering and Techno-\n",
      "logy, Rajpura, Punjab. He graduated in Electronics and Communi cation \n",
      "Engineering from National Institute of Technology (NIT), Kurukshetra, and \n",
      "post-graduated in Electronics and Communication Engineering from Punjab \n",
      "Technical University, Jalandhar. He has worked in the field of Wireless \n",
      "and Cellular Communications with leading telecom organisations in India \n",
      "and USA for about 20 years and has managed various VHF/UHF Wireless \n",
      "Communication Projects in reputed companies like HAL, Hyderabad, and \n",
      "PSIDC, Chandigarh. He has also visited Germany on business trips for tech-\n",
      "nical know-how on the transfer of Multi-Access Wireless Communication \n",
      "Systems during 1990–92. In his last association with Flextronics International \n",
      "Inc., Dallas (Texas), USA, he held the position of Senior Network Consultant, \n",
      "offering optimisation solutions in the domain of GSM, and CDMA cellular \n",
      "networks for various clients such as Nokia, AT&T, Nortel, Cingular Wireless, \n",
      "Voice Stream USA during 2000–2002. Since 2003, he has been working with \n",
      "engineering institutes as Senior Faculty of Electronics and Communication \n",
      "Engineering, specialising in Cellular and Mobile Communications, with \n",
      "Punjab Technical University, Jalandhar, India.\n",
      "His areas of interests include modeling and performance analysis of digi-\n",
      "tal communication systems, seamless mobility in future-generation digital \n",
      "cellular networks, and convergence of wireless and Internet technologies. He \n",
      "has convened international and national conferences on Wireless Networks, \n",
      "and edited proceedings of conferences. Besides these, he has also presented \n",
      "several technical research papers in international and national conferences. \n",
      "Wireless Communications\n",
      "T L Singal\n",
      "Tata McGraw Hill Education Private Limited\n",
      "NEW DELHI\n",
      "McGraw-Hill Offices\n",
      "New Delhi New York St. Louis San Francisco Auckland Bogotá\n",
      "Caracas Kuala Lumpur Lisbon London Madrid Mexico City \n",
      "Milan Montreal San Juan Santiago Singapore Sydney Tokyo Toronto\n",
      "Professor \n",
      "Department of Electronics and Communication Engineering \n",
      "Chitkara Institute of Engineering and Technology \n",
      "Rajpura, Punjab\n",
      "The McGraw.Hill Companies\n",
      "Tata McGraw Hill\n",
      "Published by the Tata McGraw Hill Education Private Limited,\n",
      "7 West Patel Nagar, New Delhi 110 008.\n",
      "Copyright © 2010 by Tata McGraw Hill Education Private Limited.\n",
      "No part of this publication may be reproduced or distributed in any form or by any means, electronic, mechanical, \n",
      "photocopying, recording, or otherwise or stored in a database or retrieval system without the prior written permission of \n",
      "the publishers. The program listings (if any) may be entered, stored and executed in a computer system, but they may not \n",
      "be reproduced for publication.\n",
      "This edition can be exported from India only by the publishers,\n",
      "Tata McGraw Hill Education Private Limited\n",
      "ISBN (13-digits): 978-0-07-068178-1\n",
      "ISBN (10-digits): 0-07-068178-3\n",
      "Managing Director: Ajay Shukla\n",
      "Head—Higher Education Publishing: Vibha Mahajan\n",
      "Manager—Sponsoring: SEM & Tech Ed: Shalini Jha\n",
      "Assoc. Sponsoring Editor: Suman Sen\n",
      "Development Editor: Manish Choudhary\n",
      "Executive—Editorial Services: Sohini Mukherjee\n",
      "Senior Production Manager: P L Pandita\n",
      "General Manager: Marketing—Higher Education: Michael J Cruz\n",
      "Dy. Marketing Manager: SEM & Tech Ed: Biju Ganesan\n",
      "Asst. Product Manager: SEM & Tech Ed: Amit Paranjpe\n",
      "General Manager—Production: Rajender P Ghansela\n",
      "Asst. General Manager—Production: B L Dogra\n",
      "Typeset at Mukesh Technologies Pvt. Ltd., Pondicherry, India, www.mukeshtechnologies.com and printed at Krishna \n",
      "Offset, 10/122, Vishnu Gali, Vishwas Nagar, Delhi 110 032\n",
      "Cover: Rashtriya Printers\n",
      "RAXLCRXZDDQRL\n",
      "Information contained in this work has been obtained by Tata McGraw Hill, from sources believed to be reliable. However, \n",
      "neither Tata McGraw Hill nor its authors guarantee the accuracy or completeness of any information published herein, \n",
      "and neither Tata McGraw Hill nor its authors shall be responsible for any errors, omissions, or damages arising out of use \n",
      "of this information. This work is published with the understanding that Tata McGraw Hill and its authors are supplying \n",
      "information but are not attempting to render engineering or other professional services. If such services are required, the \n",
      "assistance of an appropriate professional should be sought.\n",
      "To\n",
      "My Parents Shri K R Singal and Smt. Kaushalya Devi\n",
      "My Wife Pinki\n",
      "Daughter Ritu\n",
      "Son Pankaj\n",
      "Contents\n",
      "Preface \n",
      "xiii\n",
      "List of Important Symbols \n",
      "xix\n",
      "Visual Tour \n",
      "xx\n",
      "1.\n",
      "Evolution of Wireless Communication Systems\n",
      "1\n",
      "1.1 \n",
      "Brief History of Wireless Communications 1\n",
      "1.2 \n",
      "Advantages of Wireless Communications 5\n",
      "1.3 \n",
      "Disadvantages of Wireless Communications 6\n",
      "1.4 \n",
      "Wireless Network Generations 7\n",
      "1.5 \n",
      "Comparison of Wireless Systems  14\n",
      "1.6 \n",
      "Evolution to Next-Generation Networks 16\n",
      "1.7\n"
     ]
    }
   ],
   "source": [
    "texts = text_splitter.create_documents([data])\n",
    "print(texts[0].page_content)"
   ]
  },
  {
   "cell_type": "code",
   "execution_count": 7,
   "metadata": {},
   "outputs": [
    {
     "name": "stdout",
     "output_type": "stream",
     "text": [
      "['Wireless Communications\\nAbout the Author\\nT L Singal is currently Professor in the Department of Electronics and \\nCommunication Engineering, Chitkara Institute of Engineering and Techno-\\nlogy, Rajpura, Punjab. He graduated in Electronics and Communi cation \\nEngineering from National Institute of Technology (NIT), Kurukshetra, and \\npost-graduated in Electronics and Communication Engineering from Punjab \\nTechnical University, Jalandhar. He has worked in the field of Wireless \\nand Cellular Communications with leading telecom organisations in India \\nand USA for about 20 years and has managed various VHF/UHF Wireless \\nCommunication Projects in reputed companies like HAL, Hyderabad, and \\nPSIDC, Chandigarh. He has also visited Germany on business trips for tech-\\nnical know-how on the transfer of Multi-Access Wireless Communication \\nSystems during 1990–92. In his last association with Flextronics International \\nInc., Dallas (Texas), USA, he held the position of Senior Network Consultant, \\noffering optimisation solutions in the domain of GSM, and CDMA cellular \\nnetworks for various clients such as Nokia, AT&T, Nortel, Cingular Wireless, \\nVoice Stream USA during 2000–2002. Since 2003, he has been working with \\nengineering institutes as Senior Faculty of Electronics and Communication \\nEngineering, specialising in Cellular and Mobile Communications, with \\nPunjab Technical University, Jalandhar, India.\\nHis areas of interests include modeling and performance analysis of digi-\\ntal communication systems, seamless mobility in future-generation digital \\ncellular networks, and convergence of wireless and Internet technologies. He \\nhas convened international and national conferences on Wireless Networks, \\nand edited proceedings of conferences. Besides these, he has also presented \\nseveral technical research papers in international and national conferences. \\nWireless Communications\\nT L Singal\\nTata McGraw Hill Education Private Limited\\nNEW DELHI\\nMcGraw-Hill Offices\\nNew Delhi New York St. Louis San Francisco Auckland Bogotá\\nCaracas Kuala Lumpur Lisbon London Madrid Mexico City \\nMilan Montreal San Juan Santiago Singapore Sydney Tokyo Toronto\\nProfessor \\nDepartment of Electronics and Communication Engineering \\nChitkara Institute of Engineering and Technology \\nRajpura, Punjab\\nThe McGraw.Hill Companies\\nTata McGraw Hill\\nPublished by the Tata McGraw Hill Education Private Limited,\\n7 West Patel Nagar, New Delhi 110 008.\\nCopyright © 2010 by Tata McGraw Hill Education Private Limited.\\nNo part of this publication may be reproduced or distributed in any form or by any means, electronic, mechanical, \\nphotocopying, recording, or otherwise or stored in a database or retrieval system without the prior written permission of \\nthe publishers. The program listings (if any) may be entered, stored and executed in a computer system, but they may not \\nbe reproduced for publication.\\nThis edition can be exported from India only by the publishers,\\nTata McGraw Hill Education Private Limited\\nISBN (13-digits): 978-0-07-068178-1\\nISBN (10-digits): 0-07-068178-3\\nManaging Director: Ajay Shukla\\nHead—Higher Education Publishing: Vibha Mahajan\\nManager—Sponsoring: SEM & Tech Ed: Shalini Jha\\nAssoc. Sponsoring Editor: Suman Sen\\nDevelopment Editor: Manish Choudhary\\nExecutive—Editorial Services: Sohini Mukherjee\\nSenior Production Manager: P L Pandita\\nGeneral Manager: Marketing—Higher Education: Michael J Cruz\\nDy. Marketing Manager: SEM & Tech Ed: Biju Ganesan\\nAsst. Product Manager: SEM & Tech Ed: Amit Paranjpe\\nGeneral Manager—Production: Rajender P Ghansela\\nAsst. General Manager—Production: B L Dogra\\nTypeset at Mukesh Technologies Pvt. Ltd., Pondicherry, India, www.mukeshtechnologies.com and printed at Krishna \\nOffset, 10/122, Vishnu Gali, Vishwas Nagar, Delhi 110 032\\nCover: Rashtriya Printers\\nRAXLCRXZDDQRL\\nInformation contained in this work has been obtained by Tata McGraw Hill, from sources believed to be reliable. However, \\nneither Tata McGraw Hill nor its authors guarantee the accuracy or completeness of any information published herein, \\nand neither Tata McGraw Hill nor its authors shall be responsible for any errors, omissions, or damages arising out of use \\nof this information. This work is published with the understanding that Tata McGraw Hill and its authors are supplying \\ninformation but are not attempting to render engineering or other professional services. If such services are required, the \\nassistance of an appropriate professional should be sought.\\nTo\\nMy Parents Shri K R Singal and Smt. Kaushalya Devi\\nMy Wife Pinki\\nDaughter Ritu\\nSon Pankaj\\nContents\\nPreface \\nxiii\\nList of Important Symbols \\nxix\\nVisual Tour \\nxx\\n1.\\nEvolution of Wireless Communication Systems\\n1\\n1.1 \\nBrief History of Wireless Communications 1\\n1.2 \\nAdvantages of Wireless Communications 5\\n1.3 \\nDisadvantages of Wireless Communications 6\\n1.4 \\nWireless Network Generations 7\\n1.5 \\nComparison of Wireless Systems  14\\n1.6 \\nEvolution to Next-Generation Networks 16\\n1.7', '1.5 \\nComparison of Wireless Systems  14\\n1.6 \\nEvolution to Next-Generation Networks 16\\n1.7 \\nApplications of Wireless Communications 21\\n1.8 \\nPotential Market Areas  24\\n1.9 \\nChallenges for Research 27\\n1.10 \\nOutline of the Book  28\\nKey Terms 30\\nSummary 30\\nShort-Answer Type Questions with Answers 31\\nSelf-Test Quiz 32\\nReview Questions 33\\nReferences 33\\n2.\\nMobile Communication Engineering\\n35\\n2.1 \\nIntroduction 35\\n2.2 \\nThe Radio Paths 36\\n2.3 \\nThe Propagation Attenuation 37\\n2.4 \\nBasic Propagation Mechanisms 40\\n2.5 \\nMobile Radio Channel 44\\n2.6 \\nSimulation of Wireless Fading Channels 57\\nKey Terms 59\\nSummary 59\\nImportant Equations 60\\nShort-Answer Type Questions with Answers 60\\nSelf-Test Quiz 62\\nReview Questions 63\\nAnalytical Problems 64\\nReferences 65\\n3.\\nThe Propagation Models\\n66\\n3.1 \\nPropagation Criteria 66\\n3.2 \\nFree-Space Propagation Model 68\\n3.3 \\nMobile Point-to-Point Propagation Model 75\\n3.4 \\nOutdoor Propagation Path-loss Models 82\\n3.5 \\nIndoor Propagation Path-loss Models 86\\n3.6 \\nSignal Attenuation due to Foliage 90\\n3.7 \\nLong-Distance Propagation 90\\nKey Terms 91\\nSummary 92\\nviii \\nContents\\nImportant Equations 92\\nShort-Answer Type Questions with Answers 92\\nSelf-Test Quiz 94\\nReview Questions 96\\nAnalytical Problems 96\\nReferences  97\\n4.\\nPrinciples of Cellular Communication\\n99\\n4.1  Cellular Terminology 99\\n4.2 \\nCell Structure and Cluster 100\\n4.3 \\nFrequency Reuse Concept 104\\n4.4 \\nCluster Size and System Capacity 108\\n4.5 \\nMethod of Locating Cochannel Cells 111\\n4.6 \\nFrequency Reuse Distance 114\\n4.7 \\nCochannel Interference and Signal Quality 118\\n4.8 \\nCochannel Interference Reduction Methods 119\\nKey Terms 121\\nSummary 121\\nImportant Equations 122\\nShort-Answer Type Questions with Answers 122\\nSelf-Test Quiz 124\\nReview Questions 125\\nAnalytical Problems 126\\nReferences 127\\n5.\\nCellular Antenna System Design Considerations\\n128\\n5.1 \\nAntenna Characteristics 128\\n5.2 \\nAntennas at Cell-Site 131\\n5.3 \\nMobile Antennas 134\\n5.4 \\nDesign of Omnidirectional Antenna Cellular System 135\\n5.5 \\nDesign of Directional Antenna Cellular Systems 141\\n5.6 \\nAntenna Parameters and their Effects 150\\nKey Terms 151\\nSummary 152\\nImportant Equations 152\\nShort-Answer Type Questions with Answers 152\\nSelf-Test Quiz 154\\nReview Questions 155\\nAnalytical Problems 156\\nReferences 157\\n6.\\nFrequency Management and Channel Assignment\\n158\\n6.1 \\nFrequency Management 158\\n6.2 \\nChannel-Assignment Strategies 163\\n6.3 \\nFixed Channel Assignment 164\\n6.4 \\nDynamic Channel Assignment 173\\n6.5 \\nHybrid Channel Assignment  175\\nKey Terms 176\\nSummary 176\\nShort-Answer Type Questions with Answers 177\\nSelf-Test Quiz 179\\nReview Questions 180\\nAnalytical Problems 181\\nReferences  182\\nContents \\nix\\n7.\\nCellular System Design Trade-offs\\n183\\n7.1 \\nSystem Parameters to Increase Cell Coverage 183\\n7.2   Coverage Hole Fillers and Leaky Feeders 186\\n7.3   System Parameters to Reduce Interference 188\\n7.4   Methods to Increase Traffic Capacity 189\\n7.5   Cell Splitting 190\\n7.6 \\nReview of Modulation Techniques 197\\n7.7 \\nEqualisation \\n210\\n7.8 \\nDiversity 214\\n7.9 \\nChannel Coding  219\\n7.10 \\nInterleaving 225\\n7.11 \\nSpeech Coding 228\\n7.12 \\nHand-Off Mechanisms 235\\nKey Terms 243\\nSummary 244\\nImportant Equations 244\\nShort-Answer Type Questions with Answers 244\\nSelf-Test Quiz 246\\nReview Questions 247\\nAnalytical Problems 248\\nReferences 250\\n8.\\nMultiple Access Techniques\\n251\\n8.1 \\nIntroduction 251\\n8.2 \\nFrequency Division Multiple Access 252\\n8.3 \\nTime-Division Multiple Access 257\\n8.4 \\nSpread-Spectrum Multiple Access 264\\n8.5 \\nSpace Division Multiple Access 273\\n8.6 \\nHybrid Multiple Access Techniques 276\\n8.7 \\nComparison of Multiple-Access Techniques 280\\n8.8 \\nPacket Radio Multiple Access Techniques 283\\n8.9 \\nCarrier Sense Multiple Access Protocols 289\\n8.10 \\nMulticarrier Multiple Access Schemes 291\\nKey Terms 295\\nSummary 295\\nImportant Equations 296\\nShort-Answer Type Questions with Answers 296\\nSelf-Test Quiz 298\\nReview Questions 299\\nAnalytical Problems 300\\nReferences  301\\n9.\\nA Basic Cellular System\\n302\\n9.1 \\nLimitations of Conventional Mobile Telephone System 302\\n9.2 \\nConsideration of Components of a Cellular System 303\\n9.3 \\nOperation of a Cellular System 307\\n9.4 \\nPerformance Criteria 313\\n9.5 \\nPlanning a Cellular System 336\\nKey Terms 339\\nSummary 339\\nImportant Equations 339\\nShort-Answer Type Questions with Answers 340\\nSelf-Test Quiz 342\\nx \\nContents\\nReview Questions 343\\nAnalytical Problems 344\\nReferences 346\\n10.\\nWireless Communication Systems\\n347\\n10.1 \\nPaging and Messaging Systems 347\\n10.2 \\nCordless Telephone Systems 354\\n10.3 \\nWireless Local Loop 360\\n10.4 \\nLMDS 361\\n10.5 \\nCellular Telephone System 363\\n10.6 \\nAdvance Mobile Phone Service (AMPS) 363\\n10.7 \\nEnhanced Total Access Communication System 377\\n10.8   US Digital Cellular Systems (IS-54/136) 378\\n10.9 \\nPersonal Digital Cellular (PDC) 392\\nKey Terms 392\\nSummary 393\\nShort-Answer Type Questions with Answers 393\\nSelf-Test Quiz 395\\nReview Questions 396\\nAnalytical Problems 396\\nReferences  398\\n11.\\nGlobal System for Mobile (GSM)\\n400\\n11.1 \\nGSM Network Architecture 400\\n11.2 \\nGSM Signaling Protocol Architecture 407']\n"
     ]
    }
   ],
   "source": [
    "docs = []\n",
    "\n",
    "for chunk in texts:\n",
    "    docs.append(chunk.page_content)\n",
    "\n",
    "print(docs[:2])"
   ]
  },
  {
   "cell_type": "code",
   "execution_count": 8,
   "metadata": {},
   "outputs": [],
   "source": [
    "from chromadb.utils import embedding_functions"
   ]
  },
  {
   "cell_type": "code",
   "execution_count": 9,
   "metadata": {},
   "outputs": [
    {
     "name": "stderr",
     "output_type": "stream",
     "text": [
      "d:\\ML_Projects\\Llama-RAG\\parth\\Lib\\site-packages\\tqdm\\auto.py:21: TqdmWarning: IProgress not found. Please update jupyter and ipywidgets. See https://ipywidgets.readthedocs.io/en/stable/user_install.html\n",
      "  from .autonotebook import tqdm as notebook_tqdm\n"
     ]
    }
   ],
   "source": [
    "sentence_transformer_ef = embedding_functions.SentenceTransformerEmbeddingFunction(model_name=\"all-MiniLM-L6-v2\")"
   ]
  },
  {
   "cell_type": "code",
   "execution_count": 10,
   "metadata": {},
   "outputs": [],
   "source": [
    "from chromadb import Documents, EmbeddingFunction, Embeddings\n",
    "from tqdm import tqdm\n",
    "\n",
    "class MyEmbeddingFunction(EmbeddingFunction):\n",
    "    def __call__(self, input: Documents) -> Embeddings:\n",
    "        embeddings = sentence_transformer_ef([docs])\n",
    "        return embeddings"
   ]
  },
  {
   "cell_type": "code",
   "execution_count": 11,
   "metadata": {},
   "outputs": [],
   "source": [
    "def create_chroma_db(docs,name):\n",
    "    chroma_client = chromadb.PersistentClient(path=\"D:/ML_Projects/Llama-RAG/database\")\n",
    "    db = chroma_client.get_or_create_collection(\n",
    "        name=name, embedding_function=sentence_transformer_ef)\n",
    "    \n",
    "    initial_size = db.count()\n",
    "    for i, d in tqdm(enumerate(docs), total=len(docs), desc=\"Creating Chroma DB\"):\n",
    "        db.add(\n",
    "            documents=d,\n",
    "            ids=str(i + initial_size)\n",
    "        )\n",
    "        time.sleep(0.5)\n",
    "    return db\n",
    "\n",
    "\n",
    "def get_chroma_db(name):\n",
    "    chroma_client = chromadb.PersistentClient(path=\"D:/ML_Projects/Llama-RAG/database\")\n",
    "    return chroma_client.get_collection(name=name, function=EmbeddingFunction())"
   ]
  },
  {
   "cell_type": "code",
   "execution_count": 12,
   "metadata": {},
   "outputs": [
    {
     "name": "stderr",
     "output_type": "stream",
     "text": [
      "Creating Chroma DB:   4%|▎         | 45/1201 [00:26<11:26,  1.68it/s]\n"
     ]
    },
    {
     "ename": "KeyboardInterrupt",
     "evalue": "",
     "output_type": "error",
     "traceback": [
      "\u001b[1;31m---------------------------------------------------------------------------\u001b[0m",
      "\u001b[1;31mKeyboardInterrupt\u001b[0m                         Traceback (most recent call last)",
      "Cell \u001b[1;32mIn[12], line 34\u001b[0m\n\u001b[0;32m      1\u001b[0m info \u001b[38;5;241m=\u001b[39m \u001b[38;5;124m'''\u001b[39m\n\u001b[0;32m      2\u001b[0m \u001b[38;5;124mKaplan GRE Practice Test\u001b[39m\n\u001b[0;32m      3\u001b[0m \n\u001b[1;32m   (...)\u001b[0m\n\u001b[0;32m     31\u001b[0m \u001b[38;5;124mIf you have any questions, reach out to your instructor or email us at kaplanGREfeedback@kaplan.com.\u001b[39m\n\u001b[0;32m     32\u001b[0m \u001b[38;5;124m'''\u001b[39m\n\u001b[1;32m---> 34\u001b[0m db \u001b[38;5;241m=\u001b[39m \u001b[43mcreate_chroma_db\u001b[49m\u001b[43m(\u001b[49m\u001b[43minfo\u001b[49m\u001b[43m,\u001b[49m\u001b[43m \u001b[49m\u001b[38;5;124;43m\"\u001b[39;49m\u001b[38;5;124;43mdb_rag\u001b[39;49m\u001b[38;5;124;43m\"\u001b[39;49m\u001b[43m)\u001b[49m\n\u001b[0;32m     35\u001b[0m db\u001b[38;5;241m.\u001b[39mcount()\n",
      "Cell \u001b[1;32mIn[11], line 12\u001b[0m, in \u001b[0;36mcreate_chroma_db\u001b[1;34m(docs, name)\u001b[0m\n\u001b[0;32m      7\u001b[0m \u001b[38;5;28;01mfor\u001b[39;00m i, d \u001b[38;5;129;01min\u001b[39;00m tqdm(\u001b[38;5;28menumerate\u001b[39m(docs), total\u001b[38;5;241m=\u001b[39m\u001b[38;5;28mlen\u001b[39m(docs), desc\u001b[38;5;241m=\u001b[39m\u001b[38;5;124m\"\u001b[39m\u001b[38;5;124mCreating Chroma DB\u001b[39m\u001b[38;5;124m\"\u001b[39m):\n\u001b[0;32m      8\u001b[0m     db\u001b[38;5;241m.\u001b[39madd(\n\u001b[0;32m      9\u001b[0m         documents\u001b[38;5;241m=\u001b[39md,\n\u001b[0;32m     10\u001b[0m         ids\u001b[38;5;241m=\u001b[39m\u001b[38;5;28mstr\u001b[39m(i \u001b[38;5;241m+\u001b[39m initial_size)\n\u001b[0;32m     11\u001b[0m     )\n\u001b[1;32m---> 12\u001b[0m     time\u001b[38;5;241m.\u001b[39msleep(\u001b[38;5;241m0.5\u001b[39m)\n\u001b[0;32m     13\u001b[0m \u001b[38;5;28;01mreturn\u001b[39;00m db\n",
      "\u001b[1;31mKeyboardInterrupt\u001b[0m: "
     ]
    }
   ],
   "source": [
    "db = create_chroma_db(docs, \"db_rag\")\n",
    "db.count()"
   ]
  },
  {
   "cell_type": "code",
   "execution_count": null,
   "metadata": {},
   "outputs": [],
   "source": [
    "def get_relevant_passages(query, db, n_results=5):\n",
    "    passages = db.query(query_texts=[query], n_results=n_results)['documents'][0]\n",
    "    return passages"
   ]
  },
  {
   "cell_type": "code",
   "execution_count": null,
   "metadata": {},
   "outputs": [
    {
     "data": {
      "text/markdown": [
       "book and I thank the many people responsible for the publication of this book. To begin with, my thanks \n",
       "to Aman Taneja, for appreciating my willingness to write the script, and introducing me to the TMH team \n",
       "who took up this project. My sincere thanks are also due to Suman Sen and Manish Choudhary for their \n",
       "continuous encouragement to include the reviewers’ feedback and comments during the preparation of \n",
       "the text. I also want to thank Vibha Mahajan, P L Pandita, Sohini Mukherjee, Rachna Sehgal and other \n",
       "staff members of Tata McGraw Hill Education for their excellent coordination during copyediting and \n",
       " production stages of the book.\n",
       "The dream of my beloved parents, who wished me to be a mentor for aspiring young engineering students, \n",
       "is fulfilled through the publication of this book. Their blessings are similar to those bestowed by the Almighty. \n",
       "I thank my wife, Pinki; daughter, Ritu; and son, Pankaj for their inspiration, patience and continuous support.the subject.’\n",
       "‘The script has given due importance to the propagation models and Antenna Design Considerations. \n",
       "Feedback\n",
       "I hope every reader will find this book rich in content as well as pedagogical features. You will certainly enjoy \n",
       "the simplified yet extensive and elaborate approach to every new topic under discussion. I have tried my level \n",
       "best to make it a complete book on Wireless Communication but I believe there is always scope for improve-\n",
       "ment in all our efforts. Your valuable suggestions, feedback, or any other comments are most welcome at my \n",
       "email id: tarsemsingal@gmail.com. I am sure this will enable me to enhance the content of the next edition.\n",
       "T L Singal\n",
       "Publisher’s Note\n",
       "Do you have any feedback? We look forward to receive your views and suggestions for improvement. The \n",
       "same can be sent to tmh.ecefeedback@gmail.com mentioning the title and author’s name in the subject line.\n",
       "Preface \n",
       "xvii\n",
       "II \n",
       "List of Important Symbols\n",
       "γ\n",
       "path-loss exponent or distance-power \n",
       "gradient\n",
       "λc"
      ],
      "text/plain": [
       "<IPython.core.display.Markdown object>"
      ]
     },
     "execution_count": 51,
     "metadata": {},
     "output_type": "execute_result"
    }
   ],
   "source": [
    "ques = \"Is the information correct  \"\n",
    "passages = get_relevant_passages(ques, db, n_results=7)\n",
    "\n",
    "Markdown(passages[0]+passages[1])"
   ]
  },
  {
   "cell_type": "code",
   "execution_count": null,
   "metadata": {},
   "outputs": [],
   "source": [
    "def ollama_llm(question, context):\n",
    "    formatted_prompt = f'''\n",
    "    Question: {question}\\n\\nContext: {context}\n",
    "    Answer the question in 1250-2500 words strictly based on the context given.If the question is asking for a code then also explain the algorithm.If the question contains equations, explain them. Incase of spelling errors in the context, make spelling corrections in the response.\n",
    "    If the information is not sufficient then give output as \"Info not good to answer\".\n",
    "    '''\n",
    "    response = ollama.chat(model='mistral', messages=[{'role': 'user', 'content': formatted_prompt}])\n",
    "    return response['message']['content']"
   ]
  },
  {
   "cell_type": "code",
   "execution_count": null,
   "metadata": {},
   "outputs": [],
   "source": [
    "def list_to_string(passages):\n",
    "    content = \"\"\n",
    "    for passage in passages:\n",
    "        content += passage + \"\\n\"\n",
    "    return content"
   ]
  },
  {
   "cell_type": "code",
   "execution_count": null,
   "metadata": {},
   "outputs": [
    {
     "data": {
      "text/markdown": [
       " Title: A Comprehensive Textbook on Wireless Communications: From Fundamentals to Advanced Technologies\n",
       "\n",
       "Introduction:\n",
       "Wireless Communications is an essential textbook designed for undergraduate and postgraduate students majoring in wireless communications, cellular and mobile communications, wireless communication systems and networks, and advanced communication systems. This comprehensive book covers the fundamental concepts of wireless communications and then delves deeper into cellular architecture, designs, and emerging wireless networking technologies. The text is organized to provide sufficient flexibility for designing courses based on the latest trends in the advancement of wireless and cellular communication technologies.\n",
       "\n",
       "Chapter Overview:\n",
       "The following sections provide an overview of each chapter's content, its relevance to various target courses, and a brief explanation of some essential concepts covered within.\n",
       "\n",
       "1. Wireless Communications Fundamentals: This chapter introduces the reader to wireless communications, their importance, and the fundamental principles governing their operation. Topics include electromagnetic waves, propagation, radio frequency spectrum, modulation schemes, and multiple access methods. This chapter is a prerequisite for further study in wireless communications, cellular systems, and networking technologies.\n",
       "\n",
       "Target Courses: Wireless/mobile communications, Cellular and mobile communications, Wireless communication systems and networks, and Advanced communication systems.\n",
       "\n",
       "2. Principles of Wireless Communications: This chapter focuses on the basic principles of wireless communications, such as free-space propagation, diffraction and reflection, polarization, and multipath effects. It also covers radio wave propagation models like Hata, COST-231, and Longley-Rice. The applications of these models in network planning are discussed.\n",
       "\n",
       "Target Courses: Wireless/mobile communications, Cellular and mobile communications.\n",
       "\n",
       "3. Antennas for Wireless Communications: This chapter covers the design, types, and application of antennas used in wireless communications. Topics include omnidirectional, directional, Yagi-Uda, dipole, patch, and microstrip antennas. The relationship between gain, radiation efficiency, and directivity is also discussed.\n",
       "\n",
       "Target Courses: Wireless/mobile communications, Cellular and mobile communications, Wireless communication systems and networks.\n",
       "\n",
       "4. Channel Characterization and Modeling: This chapter discusses the importance of channel characterization for wireless communication systems. It covers frequency selective fading channels, channel models like Raleigh, Nakagami-m, and Weibull, and statistical description of fading channels.\n",
       "\n",
       "Target Courses: Wireless/mobile communications, Cellular and mobile communications, Wireless communication systems and networks.\n",
       "\n",
       "5. Modulation Techniques for Wireless Communications: This chapter focuses on various modulation techniques used in wireless communication systems, such as amplitude modulation (AM), frequency modulation (FM), phase shift keying (PSK), and quadrature amplitude modulation (QAM).\n",
       "\n",
       "Target Courses: Wireless/mobile communications, Cellular and mobile communications, Wireless communication systems and networks.\n",
       "\n",
       "6. Multiple Access Techniques for Wireless Communications: This chapter covers multiple access techniques used to enable efficient use of wireless communication resources. Topics include frequency division multiple access (FDMA), time division multiple access (TDMA), code division multiple access (CDMA), and orthogonal frequency-division multiplexing (OFDM).\n",
       "\n",
       "Target Courses: Wireless/mobile communications, Cellular and mobile communications, Wireless communication systems and networks.\n",
       "\n",
       "7. Cellular Communication Systems: This chapter discusses the basics of cellular communication systems, including their architecture, design, frequency reuse, and capacity enhancement techniques such as sectorization, inter-cell coordination, and antenna tilting.\n",
       "\n",
       "Target Courses: Wireless/mobile communications, Cellular and mobile communications.\n",
       "\n",
       "8. Emerging Technologies in Wireless Communications: This chapter introduces emerging technologies in wireless communications, including WiMAX, Long-Term Evolution (LTE), 5G, and beyond. It covers the underlying principles, applications, and potential future developments of these systems.\n",
       "\n",
       "Target Courses: Wireless/mobile communications, Cellular and mobile communications, Advanced communication systems.\n",
       "\n",
       "9. Wireless Networking Architectures and Protocols: This chapter discusses various wireless networking architectures, including ad-hoc networks, sensor networks, and mesh networks. It also covers protocols such as IEEE 802.11, Zigbee, and Bluetooth.\n",
       "\n",
       "Target Courses: Wireless communication systems and networks, Advanced communication systems.\n",
       "\n",
       "10. Security in Wireless Communications: This chapter focuses on security aspects of wireless communications, including authentication, encryption, and confidentiality. It covers standards like WPA and WPA2, as well as emerging security technologies.\n",
       "\n",
       "Target Courses: Wireless/mobile communications, Cellular and mobile communications, Wireless communication systems and networks, Advanced communication systems.\n",
       "\n",
       "11-14: Advanced topics in wireless communications, such as MIMO systems, cognitive radio, satellite communication systems, and optical wireless communication, respectively.\n",
       "\n",
       "Conclusion:\n",
       "Wireless Communications is an essential textbook for students and professionals seeking a comprehensive understanding of the field. It covers the fundamental principles of wireless communications, cellular architecture, designs, and emerging networking technologies. The text is modular and can be used to create courses tailored to various target audiences and their specific interests in wireless communication systems."
      ],
      "text/plain": [
       "<IPython.core.display.Markdown object>"
      ]
     },
     "execution_count": 52,
     "metadata": {},
     "output_type": "execute_result"
    }
   ],
   "source": [
    "answer = ollama_llm(ques,list_to_string(passages))\n",
    "Markdown(answer)"
   ]
  }
 ],
 "metadata": {
  "kernelspec": {
   "display_name": "parth",
   "language": "python",
   "name": "python3"
  },
  "language_info": {
   "codemirror_mode": {
    "name": "ipython",
    "version": 3
   },
   "file_extension": ".py",
   "mimetype": "text/x-python",
   "name": "python",
   "nbconvert_exporter": "python",
   "pygments_lexer": "ipython3",
   "version": "3.11.7"
  }
 },
 "nbformat": 4,
 "nbformat_minor": 2
}
